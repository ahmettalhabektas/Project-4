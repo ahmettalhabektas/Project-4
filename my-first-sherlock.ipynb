{
 "cells": [
  {
   "cell_type": "markdown",
   "id": "6d607701",
   "metadata": {},
   "source": [
    "https://www.kaggle.com/competitions/contradictory-my-dear-watson"
   ]
  },
  {
   "cell_type": "markdown",
   "id": "df881072",
   "metadata": {},
   "source": [
    "# Importing Libs and paths"
   ]
  },
  {
   "cell_type": "code",
   "execution_count": 1,
   "id": "1c21a331",
   "metadata": {
    "_cell_guid": "b1076dfc-b9ad-4769-8c92-a6c4dae69d19",
    "_uuid": "8f2839f25d086af736a60e9eeb907d3b93b6e0e5",
    "execution": {
     "iopub.execute_input": "2022-08-03T12:21:39.924309Z",
     "iopub.status.busy": "2022-08-03T12:21:39.922539Z",
     "iopub.status.idle": "2022-08-03T12:21:39.936052Z",
     "shell.execute_reply": "2022-08-03T12:21:39.936623Z",
     "shell.execute_reply.started": "2022-08-03T12:21:06.923468Z"
    },
    "papermill": {
     "duration": 0.051773,
     "end_time": "2022-08-03T12:21:39.937011",
     "exception": false,
     "start_time": "2022-08-03T12:21:39.885238",
     "status": "completed"
    },
    "tags": []
   },
   "outputs": [
    {
     "name": "stdout",
     "output_type": "stream",
     "text": [
      "/kaggle/input/contradictory-my-dear-watson/sample_submission.csv\n",
      "/kaggle/input/contradictory-my-dear-watson/train.csv\n",
      "/kaggle/input/contradictory-my-dear-watson/test.csv\n"
     ]
    }
   ],
   "source": [
    "# This Python 3 environment comes with many helpful analytics libraries installed\n",
    "# It is defined by the kaggle/python Docker image: https://github.com/kaggle/docker-python\n",
    "# For example, here's several helpful packages to load\n",
    "\n",
    "import numpy as np # linear algebra\n",
    "import pandas as pd # data processing, CSV file I/O (e.g. pd.read_csv)\n",
    "\n",
    "# Input data files are available in the read-only \"../input/\" directory\n",
    "# For example, running this (by clicking run or pressing Shift+Enter) will list all files under the input directory\n",
    "\n",
    "import os\n",
    "for dirname, _, filenames in os.walk('/kaggle/input'):\n",
    "    for filename in filenames:\n",
    "        print(os.path.join(dirname, filename))\n",
    "\n",
    "# You can write up to 20GB to the current directory (/kaggle/working/) that gets preserved as output when you create a version using \"Save & Run All\" \n",
    "# You can also write temporary files to /kaggle/temp/, but they won't be saved outside of the current session"
   ]
  },
  {
   "cell_type": "code",
   "execution_count": 2,
   "id": "1cee685a",
   "metadata": {
    "execution": {
     "iopub.execute_input": "2022-08-03T12:21:40.000999Z",
     "iopub.status.busy": "2022-08-03T12:21:39.999919Z",
     "iopub.status.idle": "2022-08-03T12:21:41.663702Z",
     "shell.execute_reply": "2022-08-03T12:21:41.662917Z",
     "shell.execute_reply.started": "2022-08-03T12:21:06.961487Z"
    },
    "papermill": {
     "duration": 1.697016,
     "end_time": "2022-08-03T12:21:41.663856",
     "exception": false,
     "start_time": "2022-08-03T12:21:39.966840",
     "status": "completed"
    },
    "tags": []
   },
   "outputs": [],
   "source": [
    "import pandas as pd\n",
    "import numpy as np\n",
    "import scipy as sp\n",
    "import matplotlib.pyplot as plt\n",
    "from sklearn.model_selection import train_test_split\n",
    "from sklearn.feature_extraction.text import CountVectorizer,TfidfVectorizer\n",
    "from sklearn.naive_bayes import MultinomialNB #3 veya daha fazla seçenek için\n",
    "from sklearn.linear_model import LogisticRegression# 2 seçenek varsa kullanılır\n",
    "from textblob import TextBlob , Word\n",
    "from sklearn import metrics\n",
    "from nltk.stem.snowball import SnowballStemmer\n",
    "%matplotlib inline"
   ]
  },
  {
   "cell_type": "markdown",
   "id": "32784095",
   "metadata": {},
   "source": [
    "# Installing requırments"
   ]
  },
  {
   "cell_type": "code",
   "execution_count": 3,
   "id": "d24b4ec0",
   "metadata": {
    "execution": {
     "iopub.execute_input": "2022-08-03T12:21:41.728348Z",
     "iopub.status.busy": "2022-08-03T12:21:41.727525Z",
     "iopub.status.idle": "2022-08-03T12:21:52.122081Z",
     "shell.execute_reply": "2022-08-03T12:21:52.122690Z",
     "shell.execute_reply.started": "2022-08-03T12:21:08.607812Z"
    },
    "papermill": {
     "duration": 10.429503,
     "end_time": "2022-08-03T12:21:52.122879",
     "exception": false,
     "start_time": "2022-08-03T12:21:41.693376",
     "status": "completed"
    },
    "tags": []
   },
   "outputs": [
    {
     "name": "stdout",
     "output_type": "stream",
     "text": [
      "Requirement already satisfied: transformers in /opt/conda/lib/python3.7/site-packages (4.5.1)\r\n",
      "Requirement already satisfied: packaging in /opt/conda/lib/python3.7/site-packages (from transformers) (21.0)\r\n",
      "Requirement already satisfied: filelock in /opt/conda/lib/python3.7/site-packages (from transformers) (3.0.12)\r\n",
      "Requirement already satisfied: importlib-metadata in /opt/conda/lib/python3.7/site-packages (from transformers) (3.4.0)\r\n",
      "Requirement already satisfied: requests in /opt/conda/lib/python3.7/site-packages (from transformers) (2.25.1)\r\n",
      "Requirement already satisfied: tokenizers<0.11,>=0.10.1 in /opt/conda/lib/python3.7/site-packages (from transformers) (0.10.3)\r\n",
      "Requirement already satisfied: tqdm>=4.27 in /opt/conda/lib/python3.7/site-packages (from transformers) (4.62.1)\r\n",
      "Requirement already satisfied: sacremoses in /opt/conda/lib/python3.7/site-packages (from transformers) (0.0.45)\r\n",
      "Requirement already satisfied: regex!=2019.12.17 in /opt/conda/lib/python3.7/site-packages (from transformers) (2021.8.3)\r\n",
      "Requirement already satisfied: numpy>=1.17 in /opt/conda/lib/python3.7/site-packages (from transformers) (1.19.5)\r\n",
      "Requirement already satisfied: typing-extensions>=3.6.4 in /opt/conda/lib/python3.7/site-packages (from importlib-metadata->transformers) (3.7.4.3)\r\n",
      "Requirement already satisfied: zipp>=0.5 in /opt/conda/lib/python3.7/site-packages (from importlib-metadata->transformers) (3.5.0)\r\n",
      "Requirement already satisfied: pyparsing>=2.0.2 in /opt/conda/lib/python3.7/site-packages (from packaging->transformers) (2.4.7)\r\n",
      "Requirement already satisfied: certifi>=2017.4.17 in /opt/conda/lib/python3.7/site-packages (from requests->transformers) (2021.5.30)\r\n",
      "Requirement already satisfied: urllib3<1.27,>=1.21.1 in /opt/conda/lib/python3.7/site-packages (from requests->transformers) (1.26.6)\r\n",
      "Requirement already satisfied: idna<3,>=2.5 in /opt/conda/lib/python3.7/site-packages (from requests->transformers) (2.10)\r\n",
      "Requirement already satisfied: chardet<5,>=3.0.2 in /opt/conda/lib/python3.7/site-packages (from requests->transformers) (4.0.0)\r\n",
      "Requirement already satisfied: six in /opt/conda/lib/python3.7/site-packages (from sacremoses->transformers) (1.15.0)\r\n",
      "Requirement already satisfied: click in /opt/conda/lib/python3.7/site-packages (from sacremoses->transformers) (8.0.1)\r\n",
      "Requirement already satisfied: joblib in /opt/conda/lib/python3.7/site-packages (from sacremoses->transformers) (1.0.1)\r\n",
      "\u001b[33mWARNING: Running pip as the 'root' user can result in broken permissions and conflicting behaviour with the system package manager. It is recommended to use a virtual environment instead: https://pip.pypa.io/warnings/venv\u001b[0m\r\n",
      "Note: you may need to restart the kernel to use updated packages.\n"
     ]
    }
   ],
   "source": [
    "pip install transformers"
   ]
  },
  {
   "cell_type": "code",
   "execution_count": 4,
   "id": "b47ec639",
   "metadata": {
    "execution": {
     "iopub.execute_input": "2022-08-03T12:21:52.193614Z",
     "iopub.status.busy": "2022-08-03T12:21:52.192850Z",
     "iopub.status.idle": "2022-08-03T12:21:58.572776Z",
     "shell.execute_reply": "2022-08-03T12:21:58.572212Z"
    },
    "papermill": {
     "duration": 6.417234,
     "end_time": "2022-08-03T12:21:58.573008",
     "exception": false,
     "start_time": "2022-08-03T12:21:52.155774",
     "status": "completed"
    },
    "tags": []
   },
   "outputs": [
    {
     "name": "stderr",
     "output_type": "stream",
     "text": [
      "2022-08-03 12:21:53.497519: W tensorflow/stream_executor/platform/default/dso_loader.cc:60] Could not load dynamic library 'libcudart.so.11.0'; dlerror: libcudart.so.11.0: cannot open shared object file: No such file or directory; LD_LIBRARY_PATH: /opt/conda/lib\n",
      "2022-08-03 12:21:53.497659: I tensorflow/stream_executor/cuda/cudart_stub.cc:29] Ignore above cudart dlerror if you do not have a GPU set up on your machine.\n"
     ]
    }
   ],
   "source": [
    "from transformers import BertTokenizer, TFBertModel\n",
    "import matplotlib.pyplot as plt\n",
    "import tensorflow as tf"
   ]
  },
  {
   "cell_type": "code",
   "execution_count": 5,
   "id": "74da5688",
   "metadata": {
    "execution": {
     "iopub.execute_input": "2022-08-03T12:21:58.643329Z",
     "iopub.status.busy": "2022-08-03T12:21:58.642384Z",
     "iopub.status.idle": "2022-08-03T12:22:04.289155Z",
     "shell.execute_reply": "2022-08-03T12:22:04.288403Z"
    },
    "papermill": {
     "duration": 5.681637,
     "end_time": "2022-08-03T12:22:04.289328",
     "exception": false,
     "start_time": "2022-08-03T12:21:58.607691",
     "status": "completed"
    },
    "tags": []
   },
   "outputs": [
    {
     "name": "stderr",
     "output_type": "stream",
     "text": [
      "2022-08-03 12:21:58.650118: I tensorflow/compiler/jit/xla_cpu_device.cc:41] Not creating XLA devices, tf_xla_enable_xla_devices not set\n",
      "2022-08-03 12:21:58.652692: W tensorflow/stream_executor/platform/default/dso_loader.cc:60] Could not load dynamic library 'libcuda.so.1'; dlerror: libcuda.so.1: cannot open shared object file: No such file or directory; LD_LIBRARY_PATH: /opt/conda/lib\n",
      "2022-08-03 12:21:58.652737: W tensorflow/stream_executor/cuda/cuda_driver.cc:326] failed call to cuInit: UNKNOWN ERROR (303)\n",
      "2022-08-03 12:21:58.652768: I tensorflow/stream_executor/cuda/cuda_diagnostics.cc:156] kernel driver does not appear to be running on this host (4c304588605b): /proc/driver/nvidia/version does not exist\n",
      "2022-08-03 12:21:58.655462: I tensorflow/core/platform/cpu_feature_guard.cc:142] This TensorFlow binary is optimized with oneAPI Deep Neural Network Library (oneDNN) to use the following CPU instructions in performance-critical operations:  AVX2 FMA\n",
      "To enable them in other operations, rebuild TensorFlow with the appropriate compiler flags.\n",
      "2022-08-03 12:21:58.656892: I tensorflow/compiler/jit/xla_gpu_device.cc:99] Not creating XLA devices, tf_xla_enable_xla_devices not set\n",
      "2022-08-03 12:21:58.688484: I tensorflow/core/distributed_runtime/rpc/grpc_channel.cc:301] Initialize GrpcChannelCache for job worker -> {0 -> 10.0.0.2:8470}\n",
      "2022-08-03 12:21:58.688548: I tensorflow/core/distributed_runtime/rpc/grpc_channel.cc:301] Initialize GrpcChannelCache for job localhost -> {0 -> localhost:30020}\n",
      "2022-08-03 12:21:58.713424: I tensorflow/core/distributed_runtime/rpc/grpc_channel.cc:301] Initialize GrpcChannelCache for job worker -> {0 -> 10.0.0.2:8470}\n",
      "2022-08-03 12:21:58.713480: I tensorflow/core/distributed_runtime/rpc/grpc_channel.cc:301] Initialize GrpcChannelCache for job localhost -> {0 -> localhost:30020}\n",
      "2022-08-03 12:21:58.716380: I tensorflow/core/distributed_runtime/rpc/grpc_server_lib.cc:411] Started server with target: grpc://localhost:30020\n"
     ]
    }
   ],
   "source": [
    "try:\n",
    "    tpu = tf.distribute.cluster_resolver.TPUClusterResolver()\n",
    "    tf.config.experimental_connect_to_cluster(tpu)\n",
    "    tf.tpu.experimental.initialize_tpu_system(tpu)\n",
    "    strategy = tf.distribute.experimental.TPUStrategy(tpu)\n",
    "except ValueError:\n",
    "    strategy = tf.distribute.get_strategy() # for CPU and single GPU\n",
    "    print('Number of replicas:', strategy.num_replicas_in_sync)"
   ]
  },
  {
   "cell_type": "markdown",
   "id": "d339a6d7",
   "metadata": {},
   "source": [
    "# Reading data"
   ]
  },
  {
   "cell_type": "code",
   "execution_count": 6,
   "id": "e8a4e77c",
   "metadata": {
    "execution": {
     "iopub.execute_input": "2022-08-03T12:22:04.360515Z",
     "iopub.status.busy": "2022-08-03T12:22:04.359626Z",
     "iopub.status.idle": "2022-08-03T12:22:04.553385Z",
     "shell.execute_reply": "2022-08-03T12:22:04.552665Z"
    },
    "papermill": {
     "duration": 0.231079,
     "end_time": "2022-08-03T12:22:04.553554",
     "exception": false,
     "start_time": "2022-08-03T12:22:04.322475",
     "status": "completed"
    },
    "tags": []
   },
   "outputs": [],
   "source": [
    "sub_df=pd.read_csv(\"../input/contradictory-my-dear-watson/sample_submission.csv\")\n",
    "df2=pd.read_csv(\"/kaggle/input/contradictory-my-dear-watson/test.csv\")\n",
    "df1=pd.read_csv(\"/kaggle/input/contradictory-my-dear-watson/train.csv\")"
   ]
  },
  {
   "cell_type": "markdown",
   "id": "7d9e2016",
   "metadata": {},
   "source": [
    "# EDA"
   ]
  },
  {
   "cell_type": "code",
   "execution_count": 7,
   "id": "47a6fc03",
   "metadata": {
    "execution": {
     "iopub.execute_input": "2022-08-03T12:22:04.629596Z",
     "iopub.status.busy": "2022-08-03T12:22:04.628587Z",
     "iopub.status.idle": "2022-08-03T12:22:04.643649Z",
     "shell.execute_reply": "2022-08-03T12:22:04.644237Z"
    },
    "papermill": {
     "duration": 0.058042,
     "end_time": "2022-08-03T12:22:04.644422",
     "exception": false,
     "start_time": "2022-08-03T12:22:04.586380",
     "status": "completed"
    },
    "tags": []
   },
   "outputs": [
    {
     "data": {
      "text/html": [
       "<div>\n",
       "<style scoped>\n",
       "    .dataframe tbody tr th:only-of-type {\n",
       "        vertical-align: middle;\n",
       "    }\n",
       "\n",
       "    .dataframe tbody tr th {\n",
       "        vertical-align: top;\n",
       "    }\n",
       "\n",
       "    .dataframe thead th {\n",
       "        text-align: right;\n",
       "    }\n",
       "</style>\n",
       "<table border=\"1\" class=\"dataframe\">\n",
       "  <thead>\n",
       "    <tr style=\"text-align: right;\">\n",
       "      <th></th>\n",
       "      <th>id</th>\n",
       "      <th>premise</th>\n",
       "      <th>hypothesis</th>\n",
       "      <th>lang_abv</th>\n",
       "      <th>language</th>\n",
       "      <th>label</th>\n",
       "    </tr>\n",
       "  </thead>\n",
       "  <tbody>\n",
       "    <tr>\n",
       "      <th>12115</th>\n",
       "      <td>2b78e2a914</td>\n",
       "      <td>The results of even the most well designed epi...</td>\n",
       "      <td>All studies have the same amount of uncertaint...</td>\n",
       "      <td>en</td>\n",
       "      <td>English</td>\n",
       "      <td>2</td>\n",
       "    </tr>\n",
       "    <tr>\n",
       "      <th>12116</th>\n",
       "      <td>7e9943d152</td>\n",
       "      <td>But there are two kinds of  the pleasure of do...</td>\n",
       "      <td>But there are two kinds of the pleasure of doi...</td>\n",
       "      <td>en</td>\n",
       "      <td>English</td>\n",
       "      <td>0</td>\n",
       "    </tr>\n",
       "    <tr>\n",
       "      <th>12117</th>\n",
       "      <td>5085923e6c</td>\n",
       "      <td>The important thing is to realize that it's wa...</td>\n",
       "      <td>It cannot be moved, now or ever.</td>\n",
       "      <td>en</td>\n",
       "      <td>English</td>\n",
       "      <td>2</td>\n",
       "    </tr>\n",
       "    <tr>\n",
       "      <th>12118</th>\n",
       "      <td>fc8e2fd1fe</td>\n",
       "      <td>At the west end is a detailed model of the who...</td>\n",
       "      <td>The model temple complex is at the east end.</td>\n",
       "      <td>en</td>\n",
       "      <td>English</td>\n",
       "      <td>2</td>\n",
       "    </tr>\n",
       "    <tr>\n",
       "      <th>12119</th>\n",
       "      <td>44301dfb14</td>\n",
       "      <td>For himself he chose Atat??rk, or Father of th...</td>\n",
       "      <td>Ataturk was the father of the Turkish nation.</td>\n",
       "      <td>en</td>\n",
       "      <td>English</td>\n",
       "      <td>0</td>\n",
       "    </tr>\n",
       "  </tbody>\n",
       "</table>\n",
       "</div>"
      ],
      "text/plain": [
       "               id                                            premise  \\\n",
       "12115  2b78e2a914  The results of even the most well designed epi...   \n",
       "12116  7e9943d152  But there are two kinds of  the pleasure of do...   \n",
       "12117  5085923e6c  The important thing is to realize that it's wa...   \n",
       "12118  fc8e2fd1fe  At the west end is a detailed model of the who...   \n",
       "12119  44301dfb14  For himself he chose Atat??rk, or Father of th...   \n",
       "\n",
       "                                              hypothesis lang_abv language  \\\n",
       "12115  All studies have the same amount of uncertaint...       en  English   \n",
       "12116  But there are two kinds of the pleasure of doi...       en  English   \n",
       "12117                   It cannot be moved, now or ever.       en  English   \n",
       "12118       The model temple complex is at the east end.       en  English   \n",
       "12119      Ataturk was the father of the Turkish nation.       en  English   \n",
       "\n",
       "       label  \n",
       "12115      2  \n",
       "12116      0  \n",
       "12117      2  \n",
       "12118      2  \n",
       "12119      0  "
      ]
     },
     "execution_count": 7,
     "metadata": {},
     "output_type": "execute_result"
    }
   ],
   "source": [
    "df1.tail()"
   ]
  },
  {
   "cell_type": "code",
   "execution_count": 8,
   "id": "d773437a",
   "metadata": {
    "execution": {
     "iopub.execute_input": "2022-08-03T12:22:04.719723Z",
     "iopub.status.busy": "2022-08-03T12:22:04.716871Z",
     "iopub.status.idle": "2022-08-03T12:22:04.723126Z",
     "shell.execute_reply": "2022-08-03T12:22:04.723688Z"
    },
    "papermill": {
     "duration": 0.044384,
     "end_time": "2022-08-03T12:22:04.723876",
     "exception": false,
     "start_time": "2022-08-03T12:22:04.679492",
     "status": "completed"
    },
    "tags": []
   },
   "outputs": [
    {
     "data": {
      "text/plain": [
       "(12120, 6)"
      ]
     },
     "execution_count": 8,
     "metadata": {},
     "output_type": "execute_result"
    }
   ],
   "source": [
    "df1.shape"
   ]
  },
  {
   "cell_type": "code",
   "execution_count": 9,
   "id": "334ae985",
   "metadata": {
    "execution": {
     "iopub.execute_input": "2022-08-03T12:22:04.797652Z",
     "iopub.status.busy": "2022-08-03T12:22:04.796652Z",
     "iopub.status.idle": "2022-08-03T12:22:04.809478Z",
     "shell.execute_reply": "2022-08-03T12:22:04.808897Z"
    },
    "papermill": {
     "duration": 0.050586,
     "end_time": "2022-08-03T12:22:04.809639",
     "exception": false,
     "start_time": "2022-08-03T12:22:04.759053",
     "status": "completed"
    },
    "tags": []
   },
   "outputs": [
    {
     "data": {
      "text/html": [
       "<div>\n",
       "<style scoped>\n",
       "    .dataframe tbody tr th:only-of-type {\n",
       "        vertical-align: middle;\n",
       "    }\n",
       "\n",
       "    .dataframe tbody tr th {\n",
       "        vertical-align: top;\n",
       "    }\n",
       "\n",
       "    .dataframe thead th {\n",
       "        text-align: right;\n",
       "    }\n",
       "</style>\n",
       "<table border=\"1\" class=\"dataframe\">\n",
       "  <thead>\n",
       "    <tr style=\"text-align: right;\">\n",
       "      <th></th>\n",
       "      <th>id</th>\n",
       "      <th>premise</th>\n",
       "      <th>hypothesis</th>\n",
       "      <th>lang_abv</th>\n",
       "      <th>language</th>\n",
       "    </tr>\n",
       "  </thead>\n",
       "  <tbody>\n",
       "    <tr>\n",
       "      <th>5190</th>\n",
       "      <td>5f90dd59b0</td>\n",
       "      <td>نیند نے وعدہ کیا کہ موٹل نے سوال میں تحقیق کی.</td>\n",
       "      <td>نیمیتھ کو موٹل کی تفتیش کے لئے معاوضہ دیا جارہ...</td>\n",
       "      <td>ur</td>\n",
       "      <td>Urdu</td>\n",
       "    </tr>\n",
       "    <tr>\n",
       "      <th>5191</th>\n",
       "      <td>f357a04e86</td>\n",
       "      <td>The  rock  has a soft texture and can be bough...</td>\n",
       "      <td>The rock is harder than most types of rock.</td>\n",
       "      <td>en</td>\n",
       "      <td>English</td>\n",
       "    </tr>\n",
       "    <tr>\n",
       "      <th>5192</th>\n",
       "      <td>1f0ea92118</td>\n",
       "      <td>她目前的存在，并考虑到他与沃佛斯顿争执的本质，那是尴尬的。</td>\n",
       "      <td>她在与Wolverstone的打斗结束后才在场的事实被看作是很尴尬的。</td>\n",
       "      <td>zh</td>\n",
       "      <td>Chinese</td>\n",
       "    </tr>\n",
       "    <tr>\n",
       "      <th>5193</th>\n",
       "      <td>0407b48afb</td>\n",
       "      <td>isn't it i can remember i've only been here ei...</td>\n",
       "      <td>I could see downtown Dallas from where I lived...</td>\n",
       "      <td>en</td>\n",
       "      <td>English</td>\n",
       "    </tr>\n",
       "    <tr>\n",
       "      <th>5194</th>\n",
       "      <td>16c2f2ab89</td>\n",
       "      <td>In Hong Kong you can have a plate, or even a w...</td>\n",
       "      <td>It's impossible to have a plate hand-painted t...</td>\n",
       "      <td>en</td>\n",
       "      <td>English</td>\n",
       "    </tr>\n",
       "  </tbody>\n",
       "</table>\n",
       "</div>"
      ],
      "text/plain": [
       "              id                                            premise  \\\n",
       "5190  5f90dd59b0     نیند نے وعدہ کیا کہ موٹل نے سوال میں تحقیق کی.   \n",
       "5191  f357a04e86  The  rock  has a soft texture and can be bough...   \n",
       "5192  1f0ea92118                      她目前的存在，并考虑到他与沃佛斯顿争执的本质，那是尴尬的。   \n",
       "5193  0407b48afb  isn't it i can remember i've only been here ei...   \n",
       "5194  16c2f2ab89  In Hong Kong you can have a plate, or even a w...   \n",
       "\n",
       "                                             hypothesis lang_abv language  \n",
       "5190  نیمیتھ کو موٹل کی تفتیش کے لئے معاوضہ دیا جارہ...       ur     Urdu  \n",
       "5191        The rock is harder than most types of rock.       en  English  \n",
       "5192                她在与Wolverstone的打斗结束后才在场的事实被看作是很尴尬的。       zh  Chinese  \n",
       "5193  I could see downtown Dallas from where I lived...       en  English  \n",
       "5194  It's impossible to have a plate hand-painted t...       en  English  "
      ]
     },
     "execution_count": 9,
     "metadata": {},
     "output_type": "execute_result"
    }
   ],
   "source": [
    "df2.tail()"
   ]
  },
  {
   "cell_type": "code",
   "execution_count": 10,
   "id": "23d178aa",
   "metadata": {
    "execution": {
     "iopub.execute_input": "2022-08-03T12:22:04.882308Z",
     "iopub.status.busy": "2022-08-03T12:22:04.881313Z",
     "iopub.status.idle": "2022-08-03T12:22:04.887060Z",
     "shell.execute_reply": "2022-08-03T12:22:04.887679Z"
    },
    "papermill": {
     "duration": 0.044046,
     "end_time": "2022-08-03T12:22:04.887861",
     "exception": false,
     "start_time": "2022-08-03T12:22:04.843815",
     "status": "completed"
    },
    "tags": []
   },
   "outputs": [
    {
     "data": {
      "text/plain": [
       "(5195, 5)"
      ]
     },
     "execution_count": 10,
     "metadata": {},
     "output_type": "execute_result"
    }
   ],
   "source": [
    "df2.shape"
   ]
  },
  {
   "cell_type": "code",
   "execution_count": 11,
   "id": "bfa1ab7c",
   "metadata": {
    "execution": {
     "iopub.execute_input": "2022-08-03T12:22:04.961777Z",
     "iopub.status.busy": "2022-08-03T12:22:04.960595Z",
     "iopub.status.idle": "2022-08-03T12:22:04.972289Z",
     "shell.execute_reply": "2022-08-03T12:22:04.972840Z"
    },
    "papermill": {
     "duration": 0.050487,
     "end_time": "2022-08-03T12:22:04.973067",
     "exception": false,
     "start_time": "2022-08-03T12:22:04.922580",
     "status": "completed"
    },
    "tags": []
   },
   "outputs": [],
   "source": [
    "df=df1.append(df2)"
   ]
  },
  {
   "cell_type": "code",
   "execution_count": 12,
   "id": "82350a69",
   "metadata": {
    "execution": {
     "iopub.execute_input": "2022-08-03T12:22:05.047919Z",
     "iopub.status.busy": "2022-08-03T12:22:05.047265Z",
     "iopub.status.idle": "2022-08-03T12:22:05.061594Z",
     "shell.execute_reply": "2022-08-03T12:22:05.061027Z"
    },
    "papermill": {
     "duration": 0.052205,
     "end_time": "2022-08-03T12:22:05.061745",
     "exception": false,
     "start_time": "2022-08-03T12:22:05.009540",
     "status": "completed"
    },
    "tags": []
   },
   "outputs": [
    {
     "data": {
      "text/html": [
       "<div>\n",
       "<style scoped>\n",
       "    .dataframe tbody tr th:only-of-type {\n",
       "        vertical-align: middle;\n",
       "    }\n",
       "\n",
       "    .dataframe tbody tr th {\n",
       "        vertical-align: top;\n",
       "    }\n",
       "\n",
       "    .dataframe thead th {\n",
       "        text-align: right;\n",
       "    }\n",
       "</style>\n",
       "<table border=\"1\" class=\"dataframe\">\n",
       "  <thead>\n",
       "    <tr style=\"text-align: right;\">\n",
       "      <th></th>\n",
       "      <th>id</th>\n",
       "      <th>premise</th>\n",
       "      <th>hypothesis</th>\n",
       "      <th>lang_abv</th>\n",
       "      <th>language</th>\n",
       "      <th>label</th>\n",
       "    </tr>\n",
       "  </thead>\n",
       "  <tbody>\n",
       "    <tr>\n",
       "      <th>5190</th>\n",
       "      <td>5f90dd59b0</td>\n",
       "      <td>نیند نے وعدہ کیا کہ موٹل نے سوال میں تحقیق کی.</td>\n",
       "      <td>نیمیتھ کو موٹل کی تفتیش کے لئے معاوضہ دیا جارہ...</td>\n",
       "      <td>ur</td>\n",
       "      <td>Urdu</td>\n",
       "      <td>NaN</td>\n",
       "    </tr>\n",
       "    <tr>\n",
       "      <th>5191</th>\n",
       "      <td>f357a04e86</td>\n",
       "      <td>The  rock  has a soft texture and can be bough...</td>\n",
       "      <td>The rock is harder than most types of rock.</td>\n",
       "      <td>en</td>\n",
       "      <td>English</td>\n",
       "      <td>NaN</td>\n",
       "    </tr>\n",
       "    <tr>\n",
       "      <th>5192</th>\n",
       "      <td>1f0ea92118</td>\n",
       "      <td>她目前的存在，并考虑到他与沃佛斯顿争执的本质，那是尴尬的。</td>\n",
       "      <td>她在与Wolverstone的打斗结束后才在场的事实被看作是很尴尬的。</td>\n",
       "      <td>zh</td>\n",
       "      <td>Chinese</td>\n",
       "      <td>NaN</td>\n",
       "    </tr>\n",
       "    <tr>\n",
       "      <th>5193</th>\n",
       "      <td>0407b48afb</td>\n",
       "      <td>isn't it i can remember i've only been here ei...</td>\n",
       "      <td>I could see downtown Dallas from where I lived...</td>\n",
       "      <td>en</td>\n",
       "      <td>English</td>\n",
       "      <td>NaN</td>\n",
       "    </tr>\n",
       "    <tr>\n",
       "      <th>5194</th>\n",
       "      <td>16c2f2ab89</td>\n",
       "      <td>In Hong Kong you can have a plate, or even a w...</td>\n",
       "      <td>It's impossible to have a plate hand-painted t...</td>\n",
       "      <td>en</td>\n",
       "      <td>English</td>\n",
       "      <td>NaN</td>\n",
       "    </tr>\n",
       "  </tbody>\n",
       "</table>\n",
       "</div>"
      ],
      "text/plain": [
       "              id                                            premise  \\\n",
       "5190  5f90dd59b0     نیند نے وعدہ کیا کہ موٹل نے سوال میں تحقیق کی.   \n",
       "5191  f357a04e86  The  rock  has a soft texture and can be bough...   \n",
       "5192  1f0ea92118                      她目前的存在，并考虑到他与沃佛斯顿争执的本质，那是尴尬的。   \n",
       "5193  0407b48afb  isn't it i can remember i've only been here ei...   \n",
       "5194  16c2f2ab89  In Hong Kong you can have a plate, or even a w...   \n",
       "\n",
       "                                             hypothesis lang_abv language  \\\n",
       "5190  نیمیتھ کو موٹل کی تفتیش کے لئے معاوضہ دیا جارہ...       ur     Urdu   \n",
       "5191        The rock is harder than most types of rock.       en  English   \n",
       "5192                她在与Wolverstone的打斗结束后才在场的事实被看作是很尴尬的。       zh  Chinese   \n",
       "5193  I could see downtown Dallas from where I lived...       en  English   \n",
       "5194  It's impossible to have a plate hand-painted t...       en  English   \n",
       "\n",
       "      label  \n",
       "5190    NaN  \n",
       "5191    NaN  \n",
       "5192    NaN  \n",
       "5193    NaN  \n",
       "5194    NaN  "
      ]
     },
     "execution_count": 12,
     "metadata": {},
     "output_type": "execute_result"
    }
   ],
   "source": [
    "df.tail()"
   ]
  },
  {
   "cell_type": "markdown",
   "id": "a1cacc20",
   "metadata": {},
   "source": [
    "# Deep understanding and feature engineering"
   ]
  },
  {
   "cell_type": "code",
   "execution_count": 13,
   "id": "add23cce",
   "metadata": {
    "execution": {
     "iopub.execute_input": "2022-08-03T12:22:05.140835Z",
     "iopub.status.busy": "2022-08-03T12:22:05.140101Z",
     "iopub.status.idle": "2022-08-03T12:22:05.149447Z",
     "shell.execute_reply": "2022-08-03T12:22:05.148853Z"
    },
    "papermill": {
     "duration": 0.051796,
     "end_time": "2022-08-03T12:22:05.149615",
     "exception": false,
     "start_time": "2022-08-03T12:22:05.097819",
     "status": "completed"
    },
    "tags": []
   },
   "outputs": [
    {
     "data": {
      "text/plain": [
       "en    9815\n",
       "zh     562\n",
       "ar     560\n",
       "sw     557\n",
       "ur     549\n",
       "ru     548\n",
       "fr     547\n",
       "es     541\n",
       "el     540\n",
       "th     535\n",
       "hi     524\n",
       "vi     524\n",
       "tr     518\n",
       "de     503\n",
       "bg     492\n",
       "Name: lang_abv, dtype: int64"
      ]
     },
     "execution_count": 13,
     "metadata": {},
     "output_type": "execute_result"
    }
   ],
   "source": [
    "df[\"lang_abv\"].value_counts()"
   ]
  },
  {
   "cell_type": "code",
   "execution_count": 14,
   "id": "6bd88e4d",
   "metadata": {
    "execution": {
     "iopub.execute_input": "2022-08-03T12:22:05.231009Z",
     "iopub.status.busy": "2022-08-03T12:22:05.230307Z",
     "iopub.status.idle": "2022-08-03T12:22:05.235653Z",
     "shell.execute_reply": "2022-08-03T12:22:05.236205Z"
    },
    "papermill": {
     "duration": 0.050545,
     "end_time": "2022-08-03T12:22:05.236394",
     "exception": false,
     "start_time": "2022-08-03T12:22:05.185849",
     "status": "completed"
    },
    "tags": []
   },
   "outputs": [
    {
     "data": {
      "text/plain": [
       "(array(['en', 'fr', 'th', 'tr', 'ur', 'ru', 'bg', 'de', 'ar', 'zh', 'hi',\n",
       "        'sw', 'vi', 'es', 'el'], dtype=object),\n",
       " array(['English', 'French', 'Thai', 'Turkish', 'Urdu', 'Russian',\n",
       "        'Bulgarian', 'German', 'Arabic', 'Chinese', 'Hindi', 'Swahili',\n",
       "        'Vietnamese', 'Spanish', 'Greek'], dtype=object))"
      ]
     },
     "execution_count": 14,
     "metadata": {},
     "output_type": "execute_result"
    }
   ],
   "source": [
    "df[\"lang_abv\"].unique(),df[\"language\"].unique()"
   ]
  },
  {
   "cell_type": "code",
   "execution_count": 15,
   "id": "1b27745e",
   "metadata": {
    "execution": {
     "iopub.execute_input": "2022-08-03T12:22:05.317805Z",
     "iopub.status.busy": "2022-08-03T12:22:05.312566Z",
     "iopub.status.idle": "2022-08-03T12:22:05.632612Z",
     "shell.execute_reply": "2022-08-03T12:22:05.632024Z"
    },
    "papermill": {
     "duration": 0.359539,
     "end_time": "2022-08-03T12:22:05.632764",
     "exception": false,
     "start_time": "2022-08-03T12:22:05.273225",
     "status": "completed"
    },
    "tags": []
   },
   "outputs": [
    {
     "name": "stderr",
     "output_type": "stream",
     "text": [
      "/opt/conda/lib/python3.7/site-packages/ipykernel_launcher.py:3: SettingWithCopyWarning: \n",
      "A value is trying to be set on a copy of a slice from a DataFrame.\n",
      "Try using .loc[row_indexer,col_indexer] = value instead\n",
      "\n",
      "See the caveats in the documentation: https://pandas.pydata.org/pandas-docs/stable/user_guide/indexing.html#returning-a-view-versus-a-copy\n",
      "  This is separate from the ipykernel package so we can avoid doing imports until\n",
      "/opt/conda/lib/python3.7/site-packages/ipykernel_launcher.py:4: FutureWarning: The default value of regex will change from True to False in a future version.\n",
      "  after removing the cwd from sys.path.\n",
      "/opt/conda/lib/python3.7/site-packages/ipykernel_launcher.py:4: SettingWithCopyWarning: \n",
      "A value is trying to be set on a copy of a slice from a DataFrame.\n",
      "Try using .loc[row_indexer,col_indexer] = value instead\n",
      "\n",
      "See the caveats in the documentation: https://pandas.pydata.org/pandas-docs/stable/user_guide/indexing.html#returning-a-view-versus-a-copy\n",
      "  after removing the cwd from sys.path.\n",
      "/opt/conda/lib/python3.7/site-packages/ipykernel_launcher.py:5: FutureWarning: The default value of regex will change from True to False in a future version.\n",
      "  \"\"\"\n",
      "/opt/conda/lib/python3.7/site-packages/ipykernel_launcher.py:5: SettingWithCopyWarning: \n",
      "A value is trying to be set on a copy of a slice from a DataFrame.\n",
      "Try using .loc[row_indexer,col_indexer] = value instead\n",
      "\n",
      "See the caveats in the documentation: https://pandas.pydata.org/pandas-docs/stable/user_guide/indexing.html#returning-a-view-versus-a-copy\n",
      "  \"\"\"\n",
      "/opt/conda/lib/python3.7/site-packages/ipykernel_launcher.py:6: SettingWithCopyWarning: \n",
      "A value is trying to be set on a copy of a slice from a DataFrame.\n",
      "Try using .loc[row_indexer,col_indexer] = value instead\n",
      "\n",
      "See the caveats in the documentation: https://pandas.pydata.org/pandas-docs/stable/user_guide/indexing.html#returning-a-view-versus-a-copy\n",
      "  \n"
     ]
    }
   ],
   "source": [
    "for i in list(df[\"lang_abv\"].unique()):\n",
    "    df_hyp=df.loc[df[\"lang_abv\"]==i]\n",
    "    df_hyp[\"hypothesis\"]=df_hyp[\"hypothesis\"].str.lower()\n",
    "    df_hyp[\"hypothesis\"]=df_hyp[\"hypothesis\"].str.replace(\"[^\\w\\s]\",\"\")\n",
    "    df_hyp[\"hypothesis\"]=df_hyp[\"hypothesis\"].str.replace(\"\\d+\",\"\")\n",
    "    df_hyp[\"hypothesis\"]=df_hyp[\"hypothesis\"].str.replace(\"\\n\",\" \").str.replace(\"\\r\",\"\")\n",
    "    df.loc[df[\"lang_abv\"]==i]=df_hyp"
   ]
  },
  {
   "cell_type": "code",
   "execution_count": 16,
   "id": "34aa82c8",
   "metadata": {
    "execution": {
     "iopub.execute_input": "2022-08-03T12:22:05.710474Z",
     "iopub.status.busy": "2022-08-03T12:22:05.709743Z",
     "iopub.status.idle": "2022-08-03T12:22:06.072813Z",
     "shell.execute_reply": "2022-08-03T12:22:06.072232Z"
    },
    "papermill": {
     "duration": 0.402816,
     "end_time": "2022-08-03T12:22:06.073009",
     "exception": false,
     "start_time": "2022-08-03T12:22:05.670193",
     "status": "completed"
    },
    "tags": []
   },
   "outputs": [
    {
     "name": "stderr",
     "output_type": "stream",
     "text": [
      "/opt/conda/lib/python3.7/site-packages/ipykernel_launcher.py:3: SettingWithCopyWarning: \n",
      "A value is trying to be set on a copy of a slice from a DataFrame.\n",
      "Try using .loc[row_indexer,col_indexer] = value instead\n",
      "\n",
      "See the caveats in the documentation: https://pandas.pydata.org/pandas-docs/stable/user_guide/indexing.html#returning-a-view-versus-a-copy\n",
      "  This is separate from the ipykernel package so we can avoid doing imports until\n",
      "/opt/conda/lib/python3.7/site-packages/ipykernel_launcher.py:4: FutureWarning: The default value of regex will change from True to False in a future version.\n",
      "  after removing the cwd from sys.path.\n",
      "/opt/conda/lib/python3.7/site-packages/ipykernel_launcher.py:4: SettingWithCopyWarning: \n",
      "A value is trying to be set on a copy of a slice from a DataFrame.\n",
      "Try using .loc[row_indexer,col_indexer] = value instead\n",
      "\n",
      "See the caveats in the documentation: https://pandas.pydata.org/pandas-docs/stable/user_guide/indexing.html#returning-a-view-versus-a-copy\n",
      "  after removing the cwd from sys.path.\n",
      "/opt/conda/lib/python3.7/site-packages/ipykernel_launcher.py:5: FutureWarning: The default value of regex will change from True to False in a future version.\n",
      "  \"\"\"\n",
      "/opt/conda/lib/python3.7/site-packages/ipykernel_launcher.py:5: SettingWithCopyWarning: \n",
      "A value is trying to be set on a copy of a slice from a DataFrame.\n",
      "Try using .loc[row_indexer,col_indexer] = value instead\n",
      "\n",
      "See the caveats in the documentation: https://pandas.pydata.org/pandas-docs/stable/user_guide/indexing.html#returning-a-view-versus-a-copy\n",
      "  \"\"\"\n",
      "/opt/conda/lib/python3.7/site-packages/ipykernel_launcher.py:6: SettingWithCopyWarning: \n",
      "A value is trying to be set on a copy of a slice from a DataFrame.\n",
      "Try using .loc[row_indexer,col_indexer] = value instead\n",
      "\n",
      "See the caveats in the documentation: https://pandas.pydata.org/pandas-docs/stable/user_guide/indexing.html#returning-a-view-versus-a-copy\n",
      "  \n"
     ]
    }
   ],
   "source": [
    "for i in list(df[\"lang_abv\"].unique()):\n",
    "    df_pre=df[df[\"lang_abv\"]==i]\n",
    "    df_pre[\"premise\"]=df_pre[\"premise\"].str.lower()\n",
    "    df_pre[\"premise\"]=df_pre[\"premise\"].str.replace(\"[^\\w\\s]\",\"\")\n",
    "    df_pre[\"premise\"]=df_pre[\"premise\"].str.replace(\"\\d+\",\"\")\n",
    "    df_pre[\"premise\"]=df_pre[\"premise\"].str.replace(\"\\n\",\" \").str.replace(\"\\r\",\"\")\n",
    "    df[df[\"lang_abv\"]==i]=df_pre"
   ]
  },
  {
   "cell_type": "code",
   "execution_count": 17,
   "id": "6f6281fb",
   "metadata": {
    "execution": {
     "iopub.execute_input": "2022-08-03T12:22:06.162403Z",
     "iopub.status.busy": "2022-08-03T12:22:06.161672Z",
     "iopub.status.idle": "2022-08-03T12:22:06.166391Z",
     "shell.execute_reply": "2022-08-03T12:22:06.165652Z"
    },
    "papermill": {
     "duration": 0.055695,
     "end_time": "2022-08-03T12:22:06.166558",
     "exception": false,
     "start_time": "2022-08-03T12:22:06.110863",
     "status": "completed"
    },
    "tags": []
   },
   "outputs": [
    {
     "data": {
      "text/html": [
       "<div>\n",
       "<style scoped>\n",
       "    .dataframe tbody tr th:only-of-type {\n",
       "        vertical-align: middle;\n",
       "    }\n",
       "\n",
       "    .dataframe tbody tr th {\n",
       "        vertical-align: top;\n",
       "    }\n",
       "\n",
       "    .dataframe thead th {\n",
       "        text-align: right;\n",
       "    }\n",
       "</style>\n",
       "<table border=\"1\" class=\"dataframe\">\n",
       "  <thead>\n",
       "    <tr style=\"text-align: right;\">\n",
       "      <th></th>\n",
       "      <th>id</th>\n",
       "      <th>premise</th>\n",
       "      <th>hypothesis</th>\n",
       "      <th>lang_abv</th>\n",
       "      <th>language</th>\n",
       "      <th>label</th>\n",
       "    </tr>\n",
       "  </thead>\n",
       "  <tbody>\n",
       "    <tr>\n",
       "      <th>0</th>\n",
       "      <td>5130fd2cb5</td>\n",
       "      <td>and these comments were considered in formulat...</td>\n",
       "      <td>the rules developed in the interim were put to...</td>\n",
       "      <td>en</td>\n",
       "      <td>English</td>\n",
       "      <td>0.0</td>\n",
       "    </tr>\n",
       "    <tr>\n",
       "      <th>1</th>\n",
       "      <td>5b72532a0b</td>\n",
       "      <td>these are issues that we wrestle with in pract...</td>\n",
       "      <td>practice groups are not permitted to work on t...</td>\n",
       "      <td>en</td>\n",
       "      <td>English</td>\n",
       "      <td>2.0</td>\n",
       "    </tr>\n",
       "    <tr>\n",
       "      <th>2</th>\n",
       "      <td>3931fbe82a</td>\n",
       "      <td>des petites choses comme celleslà font une dif...</td>\n",
       "      <td>jessayais daccomplir quelque chose</td>\n",
       "      <td>fr</td>\n",
       "      <td>French</td>\n",
       "      <td>0.0</td>\n",
       "    </tr>\n",
       "    <tr>\n",
       "      <th>3</th>\n",
       "      <td>5622f0c60b</td>\n",
       "      <td>you know they cant really defend themselves li...</td>\n",
       "      <td>they cant defend themselves because of their age</td>\n",
       "      <td>en</td>\n",
       "      <td>English</td>\n",
       "      <td>0.0</td>\n",
       "    </tr>\n",
       "    <tr>\n",
       "      <th>4</th>\n",
       "      <td>86aaa48b45</td>\n",
       "      <td>ในการเลนบทบาทสมมตกเชนกน โอกาสทจะไดแสดงออกและได...</td>\n",
       "      <td>เดกสามารถเหนไดวาชาตพนธแตกตางกนอยางไร</td>\n",
       "      <td>th</td>\n",
       "      <td>Thai</td>\n",
       "      <td>1.0</td>\n",
       "    </tr>\n",
       "  </tbody>\n",
       "</table>\n",
       "</div>"
      ],
      "text/plain": [
       "           id                                            premise  \\\n",
       "0  5130fd2cb5  and these comments were considered in formulat...   \n",
       "1  5b72532a0b  these are issues that we wrestle with in pract...   \n",
       "2  3931fbe82a  des petites choses comme celleslà font une dif...   \n",
       "3  5622f0c60b  you know they cant really defend themselves li...   \n",
       "4  86aaa48b45  ในการเลนบทบาทสมมตกเชนกน โอกาสทจะไดแสดงออกและได...   \n",
       "\n",
       "                                          hypothesis lang_abv language  label  \n",
       "0  the rules developed in the interim were put to...       en  English    0.0  \n",
       "1  practice groups are not permitted to work on t...       en  English    2.0  \n",
       "2                 jessayais daccomplir quelque chose       fr   French    0.0  \n",
       "3   they cant defend themselves because of their age       en  English    0.0  \n",
       "4               เดกสามารถเหนไดวาชาตพนธแตกตางกนอยางไร       th     Thai    1.0  "
      ]
     },
     "execution_count": 17,
     "metadata": {},
     "output_type": "execute_result"
    }
   ],
   "source": [
    "df.head()"
   ]
  },
  {
   "cell_type": "code",
   "execution_count": 18,
   "id": "c3d2869c",
   "metadata": {
    "execution": {
     "iopub.execute_input": "2022-08-03T12:22:06.248210Z",
     "iopub.status.busy": "2022-08-03T12:22:06.247419Z",
     "iopub.status.idle": "2022-08-03T12:22:14.913490Z",
     "shell.execute_reply": "2022-08-03T12:22:14.912709Z"
    },
    "papermill": {
     "duration": 8.708852,
     "end_time": "2022-08-03T12:22:14.913667",
     "exception": false,
     "start_time": "2022-08-03T12:22:06.204815",
     "status": "completed"
    },
    "tags": []
   },
   "outputs": [
    {
     "name": "stdout",
     "output_type": "stream",
     "text": [
      "Requirement already satisfied: stop-words in /opt/conda/lib/python3.7/site-packages (2018.7.23)\r\n",
      "\u001b[33mWARNING: Running pip as the 'root' user can result in broken permissions and conflicting behaviour with the system package manager. It is recommended to use a virtual environment instead: https://pip.pypa.io/warnings/venv\u001b[0m\r\n",
      "Note: you may need to restart the kernel to use updated packages.\n"
     ]
    }
   ],
   "source": [
    "pip install stop-words"
   ]
  },
  {
   "cell_type": "code",
   "execution_count": 19,
   "id": "ed215360",
   "metadata": {
    "execution": {
     "iopub.execute_input": "2022-08-03T12:22:15.007776Z",
     "iopub.status.busy": "2022-08-03T12:22:15.007059Z",
     "iopub.status.idle": "2022-08-03T12:22:15.239895Z",
     "shell.execute_reply": "2022-08-03T12:22:15.239259Z"
    },
    "papermill": {
     "duration": 0.286562,
     "end_time": "2022-08-03T12:22:15.240085",
     "exception": false,
     "start_time": "2022-08-03T12:22:14.953523",
     "status": "completed"
    },
    "tags": []
   },
   "outputs": [],
   "source": [
    "import pandas as pd\n",
    "import numpy as np\n",
    "# Plotting packs\n",
    "import matplotlib.pyplot as plt\n",
    "%matplotlib inline\n",
    "import seaborn as sns\n",
    "#NLP packs\n",
    "import nltk\n",
    "from nltk.stem.porter import PorterStemmer\n",
    "from nltk.corpus import stopwords\n",
    "from stop_words import get_stop_words\n",
    "import re \n",
    "import string\n",
    "\n",
    "##Wordcloud Modules\n",
    "from wordcloud import WordCloud , STOPWORDS\n",
    "from wordcloud import WordCloud\n",
    "#Machine learning Packs\n",
    "from sklearn.feature_extraction.text import CountVectorizer\n",
    "from sklearn.model_selection import train_test_split\n",
    "from sklearn.naive_bayes import MultinomialNB\n",
    "from sklearn.ensemble import RandomForestClassifier\n",
    "from sklearn.tree import DecisionTreeClassifier\n",
    "from sklearn.metrics import classification_report,accuracy_score,confusion_matrix"
   ]
  },
  {
   "cell_type": "code",
   "execution_count": 20,
   "id": "077d1c83",
   "metadata": {
    "execution": {
     "iopub.execute_input": "2022-08-03T12:22:15.333677Z",
     "iopub.status.busy": "2022-08-03T12:22:15.332731Z",
     "iopub.status.idle": "2022-08-03T12:22:15.529763Z",
     "shell.execute_reply": "2022-08-03T12:22:15.530294Z"
    },
    "papermill": {
     "duration": 0.24977,
     "end_time": "2022-08-03T12:22:15.530491",
     "exception": false,
     "start_time": "2022-08-03T12:22:15.280721",
     "status": "completed"
    },
    "tags": []
   },
   "outputs": [
    {
     "name": "stdout",
     "output_type": "stream",
     "text": [
      "[nltk_data] Downloading package stopwords to /usr/share/nltk_data...\n",
      "[nltk_data]   Unzipping corpora/stopwords.zip.\n"
     ]
    },
    {
     "data": {
      "text/plain": [
       "True"
      ]
     },
     "execution_count": 20,
     "metadata": {},
     "output_type": "execute_result"
    }
   ],
   "source": [
    "import nltk\n",
    "nltk.download('stopwords')"
   ]
  },
  {
   "cell_type": "code",
   "execution_count": 21,
   "id": "830df21d",
   "metadata": {
    "execution": {
     "iopub.execute_input": "2022-08-03T12:22:15.613404Z",
     "iopub.status.busy": "2022-08-03T12:22:15.612699Z",
     "iopub.status.idle": "2022-08-03T12:22:15.686168Z",
     "shell.execute_reply": "2022-08-03T12:22:15.685572Z"
    },
    "papermill": {
     "duration": 0.116256,
     "end_time": "2022-08-03T12:22:15.686321",
     "exception": false,
     "start_time": "2022-08-03T12:22:15.570065",
     "status": "completed"
    },
    "tags": []
   },
   "outputs": [
    {
     "name": "stdout",
     "output_type": "stream",
     "text": [
      "[nltk_data] Downloading package wordnet to /usr/share/nltk_data...\n",
      "[nltk_data]   Package wordnet is already up-to-date!\n"
     ]
    },
    {
     "data": {
      "text/plain": [
       "True"
      ]
     },
     "execution_count": 21,
     "metadata": {},
     "output_type": "execute_result"
    }
   ],
   "source": [
    "nltk.download('wordnet')"
   ]
  },
  {
   "cell_type": "code",
   "execution_count": 22,
   "id": "4d306cb2",
   "metadata": {
    "execution": {
     "iopub.execute_input": "2022-08-03T12:22:15.771740Z",
     "iopub.status.busy": "2022-08-03T12:22:15.771090Z",
     "iopub.status.idle": "2022-08-03T12:22:16.012478Z",
     "shell.execute_reply": "2022-08-03T12:22:16.011917Z"
    },
    "papermill": {
     "duration": 0.285442,
     "end_time": "2022-08-03T12:22:16.012636",
     "exception": false,
     "start_time": "2022-08-03T12:22:15.727194",
     "status": "completed"
    },
    "tags": []
   },
   "outputs": [
    {
     "name": "stdout",
     "output_type": "stream",
     "text": [
      "[nltk_data] Downloading package omw-1.4 to /usr/share/nltk_data...\n"
     ]
    },
    {
     "data": {
      "text/plain": [
       "True"
      ]
     },
     "execution_count": 22,
     "metadata": {},
     "output_type": "execute_result"
    }
   ],
   "source": [
    "nltk.download('omw-1.4')"
   ]
  },
  {
   "cell_type": "code",
   "execution_count": 23,
   "id": "f0604a10",
   "metadata": {
    "execution": {
     "iopub.execute_input": "2022-08-03T12:22:16.098846Z",
     "iopub.status.busy": "2022-08-03T12:22:16.098190Z",
     "iopub.status.idle": "2022-08-03T12:22:16.104377Z",
     "shell.execute_reply": "2022-08-03T12:22:16.104859Z"
    },
    "papermill": {
     "duration": 0.051317,
     "end_time": "2022-08-03T12:22:16.105101",
     "exception": false,
     "start_time": "2022-08-03T12:22:16.053784",
     "status": "completed"
    },
    "tags": []
   },
   "outputs": [],
   "source": [
    "lang_list=df.language.unique().tolist()"
   ]
  },
  {
   "cell_type": "code",
   "execution_count": 24,
   "id": "4d9fe88c",
   "metadata": {
    "execution": {
     "iopub.execute_input": "2022-08-03T12:22:16.193624Z",
     "iopub.status.busy": "2022-08-03T12:22:16.192930Z",
     "iopub.status.idle": "2022-08-03T12:22:16.195230Z",
     "shell.execute_reply": "2022-08-03T12:22:16.195738Z"
    },
    "papermill": {
     "duration": 0.049277,
     "end_time": "2022-08-03T12:22:16.195914",
     "exception": false,
     "start_time": "2022-08-03T12:22:16.146637",
     "status": "completed"
    },
    "tags": []
   },
   "outputs": [],
   "source": [
    "import stop_words\n",
    "list_stop=stop_words.AVAILABLE_LANGUAGES"
   ]
  },
  {
   "cell_type": "code",
   "execution_count": 25,
   "id": "4400246f",
   "metadata": {
    "execution": {
     "iopub.execute_input": "2022-08-03T12:22:16.293677Z",
     "iopub.status.busy": "2022-08-03T12:22:16.284714Z",
     "iopub.status.idle": "2022-08-03T12:22:16.297012Z",
     "shell.execute_reply": "2022-08-03T12:22:16.297637Z"
    },
    "papermill": {
     "duration": 0.059999,
     "end_time": "2022-08-03T12:22:16.297817",
     "exception": false,
     "start_time": "2022-08-03T12:22:16.237818",
     "status": "completed"
    },
    "tags": []
   },
   "outputs": [
    {
     "data": {
      "text/html": [
       "<div>\n",
       "<style scoped>\n",
       "    .dataframe tbody tr th:only-of-type {\n",
       "        vertical-align: middle;\n",
       "    }\n",
       "\n",
       "    .dataframe tbody tr th {\n",
       "        vertical-align: top;\n",
       "    }\n",
       "\n",
       "    .dataframe thead th {\n",
       "        text-align: right;\n",
       "    }\n",
       "</style>\n",
       "<table border=\"1\" class=\"dataframe\">\n",
       "  <thead>\n",
       "    <tr style=\"text-align: right;\">\n",
       "      <th></th>\n",
       "      <th>id</th>\n",
       "      <th>premise</th>\n",
       "      <th>hypothesis</th>\n",
       "      <th>lang_abv</th>\n",
       "      <th>language</th>\n",
       "      <th>label</th>\n",
       "    </tr>\n",
       "  </thead>\n",
       "  <tbody>\n",
       "    <tr>\n",
       "      <th>0</th>\n",
       "      <td>5130fd2cb5</td>\n",
       "      <td>and these comments were considered in formulat...</td>\n",
       "      <td>the rules developed in the interim were put to...</td>\n",
       "      <td>en</td>\n",
       "      <td>English</td>\n",
       "      <td>0.0</td>\n",
       "    </tr>\n",
       "    <tr>\n",
       "      <th>1</th>\n",
       "      <td>5b72532a0b</td>\n",
       "      <td>these are issues that we wrestle with in pract...</td>\n",
       "      <td>practice groups are not permitted to work on t...</td>\n",
       "      <td>en</td>\n",
       "      <td>English</td>\n",
       "      <td>2.0</td>\n",
       "    </tr>\n",
       "    <tr>\n",
       "      <th>2</th>\n",
       "      <td>3931fbe82a</td>\n",
       "      <td>des petites choses comme celleslà font une dif...</td>\n",
       "      <td>jessayais daccomplir quelque chose</td>\n",
       "      <td>fr</td>\n",
       "      <td>French</td>\n",
       "      <td>0.0</td>\n",
       "    </tr>\n",
       "    <tr>\n",
       "      <th>3</th>\n",
       "      <td>5622f0c60b</td>\n",
       "      <td>you know they cant really defend themselves li...</td>\n",
       "      <td>they cant defend themselves because of their age</td>\n",
       "      <td>en</td>\n",
       "      <td>English</td>\n",
       "      <td>0.0</td>\n",
       "    </tr>\n",
       "    <tr>\n",
       "      <th>4</th>\n",
       "      <td>86aaa48b45</td>\n",
       "      <td>ในการเลนบทบาทสมมตกเชนกน โอกาสทจะไดแสดงออกและได...</td>\n",
       "      <td>เดกสามารถเหนไดวาชาตพนธแตกตางกนอยางไร</td>\n",
       "      <td>th</td>\n",
       "      <td>Thai</td>\n",
       "      <td>1.0</td>\n",
       "    </tr>\n",
       "  </tbody>\n",
       "</table>\n",
       "</div>"
      ],
      "text/plain": [
       "           id                                            premise  \\\n",
       "0  5130fd2cb5  and these comments were considered in formulat...   \n",
       "1  5b72532a0b  these are issues that we wrestle with in pract...   \n",
       "2  3931fbe82a  des petites choses comme celleslà font une dif...   \n",
       "3  5622f0c60b  you know they cant really defend themselves li...   \n",
       "4  86aaa48b45  ในการเลนบทบาทสมมตกเชนกน โอกาสทจะไดแสดงออกและได...   \n",
       "\n",
       "                                          hypothesis lang_abv language  label  \n",
       "0  the rules developed in the interim were put to...       en  English    0.0  \n",
       "1  practice groups are not permitted to work on t...       en  English    2.0  \n",
       "2                 jessayais daccomplir quelque chose       fr   French    0.0  \n",
       "3   they cant defend themselves because of their age       en  English    0.0  \n",
       "4               เดกสามารถเหนไดวาชาตพนธแตกตางกนอยางไร       th     Thai    1.0  "
      ]
     },
     "execution_count": 25,
     "metadata": {},
     "output_type": "execute_result"
    }
   ],
   "source": [
    "df.head()"
   ]
  },
  {
   "cell_type": "code",
   "execution_count": 26,
   "id": "ef1b8934",
   "metadata": {
    "execution": {
     "iopub.execute_input": "2022-08-03T12:22:16.393885Z",
     "iopub.status.busy": "2022-08-03T12:22:16.391314Z",
     "iopub.status.idle": "2022-08-03T12:22:28.581984Z",
     "shell.execute_reply": "2022-08-03T12:22:28.581354Z"
    },
    "papermill": {
     "duration": 12.242048,
     "end_time": "2022-08-03T12:22:28.582137",
     "exception": false,
     "start_time": "2022-08-03T12:22:16.340089",
     "status": "completed"
    },
    "tags": []
   },
   "outputs": [],
   "source": [
    "from nltk.stem import LancasterStemmer\n",
    "from nltk.stem import WordNetLemmatizer\n",
    "\n",
    "for a in df[\"lang_abv\"].unique().tolist():\n",
    "  datas=df[df[\"lang_abv\"]==a]\n",
    "  langu=datas[\"language\"].values.tolist()[0].lower()\n",
    "  texts=datas[\"premise\"].values.tolist()\n",
    "  data=texts\n",
    "  clean_txt=[]\n",
    "  for i in range(0,len(data)):\n",
    "      text=data[i]\n",
    "      text=text.split()\n",
    "      ls=LancasterStemmer()#kelimelerden ekleri çıkararak kök bulma\n",
    "      if langu in list_stop:\n",
    "        text=[ls.stem(j)for j in text if not j in set(stop_words.get_stop_words(langu))]\n",
    "      else:\n",
    "        text=[ls.stem(j)for j in text]\n",
    "      lem=WordNetLemmatizer()#kelimelerden ekleri çıkararak kök bulma\n",
    "      if langu in list_stop:\n",
    "        text=[lem.lemmatize(j)for j in text if not j in set(stop_words.get_stop_words(langu))]\n",
    "      else:\n",
    "        text=[lem.lemmatize(j)for j in text ]\n",
    "      \n",
    "      #stopwords kaldırma   \n",
    "      text=\" \".join(text)#kelimeleri yeniden birleştirme\n",
    "      clean_txt.append(text)\n",
    "  df.loc[df[\"lang_abv\"]==a,\"premise\"]=clean_txt"
   ]
  },
  {
   "cell_type": "code",
   "execution_count": 27,
   "id": "faf1ed9b",
   "metadata": {
    "execution": {
     "iopub.execute_input": "2022-08-03T12:22:28.682574Z",
     "iopub.status.busy": "2022-08-03T12:22:28.681178Z",
     "iopub.status.idle": "2022-08-03T12:22:28.685358Z",
     "shell.execute_reply": "2022-08-03T12:22:28.685873Z"
    },
    "papermill": {
     "duration": 0.060317,
     "end_time": "2022-08-03T12:22:28.686091",
     "exception": false,
     "start_time": "2022-08-03T12:22:28.625774",
     "status": "completed"
    },
    "tags": []
   },
   "outputs": [
    {
     "data": {
      "text/html": [
       "<div>\n",
       "<style scoped>\n",
       "    .dataframe tbody tr th:only-of-type {\n",
       "        vertical-align: middle;\n",
       "    }\n",
       "\n",
       "    .dataframe tbody tr th {\n",
       "        vertical-align: top;\n",
       "    }\n",
       "\n",
       "    .dataframe thead th {\n",
       "        text-align: right;\n",
       "    }\n",
       "</style>\n",
       "<table border=\"1\" class=\"dataframe\">\n",
       "  <thead>\n",
       "    <tr style=\"text-align: right;\">\n",
       "      <th></th>\n",
       "      <th>id</th>\n",
       "      <th>premise</th>\n",
       "      <th>hypothesis</th>\n",
       "      <th>lang_abv</th>\n",
       "      <th>language</th>\n",
       "      <th>label</th>\n",
       "    </tr>\n",
       "  </thead>\n",
       "  <tbody>\n",
       "    <tr>\n",
       "      <th>0</th>\n",
       "      <td>5130fd2cb5</td>\n",
       "      <td>com consid form interim rul</td>\n",
       "      <td>the rules developed in the interim were put to...</td>\n",
       "      <td>en</td>\n",
       "      <td>English</td>\n",
       "      <td>0.0</td>\n",
       "    </tr>\n",
       "    <tr>\n",
       "      <th>1</th>\n",
       "      <td>5b72532a0b</td>\n",
       "      <td>issu wrestl pract group law firm said</td>\n",
       "      <td>practice groups are not permitted to work on t...</td>\n",
       "      <td>en</td>\n",
       "      <td>English</td>\n",
       "      <td>2.0</td>\n",
       "    </tr>\n",
       "    <tr>\n",
       "      <th>2</th>\n",
       "      <td>3931fbe82a</td>\n",
       "      <td>petit chos celleslà différ énorm jessay</td>\n",
       "      <td>jessayais daccomplir quelque chose</td>\n",
       "      <td>fr</td>\n",
       "      <td>French</td>\n",
       "      <td>0.0</td>\n",
       "    </tr>\n",
       "    <tr>\n",
       "      <th>3</th>\n",
       "      <td>5622f0c60b</td>\n",
       "      <td>know cant real defend lik somebody grown uh sa...</td>\n",
       "      <td>they cant defend themselves because of their age</td>\n",
       "      <td>en</td>\n",
       "      <td>English</td>\n",
       "      <td>0.0</td>\n",
       "    </tr>\n",
       "    <tr>\n",
       "      <th>4</th>\n",
       "      <td>86aaa48b45</td>\n",
       "      <td>ในการเลนบทบาทสมมตกเชนกน โอกาสทจะไดแสดงออกและได...</td>\n",
       "      <td>เดกสามารถเหนไดวาชาตพนธแตกตางกนอยางไร</td>\n",
       "      <td>th</td>\n",
       "      <td>Thai</td>\n",
       "      <td>1.0</td>\n",
       "    </tr>\n",
       "  </tbody>\n",
       "</table>\n",
       "</div>"
      ],
      "text/plain": [
       "           id                                            premise  \\\n",
       "0  5130fd2cb5                        com consid form interim rul   \n",
       "1  5b72532a0b              issu wrestl pract group law firm said   \n",
       "2  3931fbe82a            petit chos celleslà différ énorm jessay   \n",
       "3  5622f0c60b  know cant real defend lik somebody grown uh sa...   \n",
       "4  86aaa48b45  ในการเลนบทบาทสมมตกเชนกน โอกาสทจะไดแสดงออกและได...   \n",
       "\n",
       "                                          hypothesis lang_abv language  label  \n",
       "0  the rules developed in the interim were put to...       en  English    0.0  \n",
       "1  practice groups are not permitted to work on t...       en  English    2.0  \n",
       "2                 jessayais daccomplir quelque chose       fr   French    0.0  \n",
       "3   they cant defend themselves because of their age       en  English    0.0  \n",
       "4               เดกสามารถเหนไดวาชาตพนธแตกตางกนอยางไร       th     Thai    1.0  "
      ]
     },
     "execution_count": 27,
     "metadata": {},
     "output_type": "execute_result"
    }
   ],
   "source": [
    "df.head()"
   ]
  },
  {
   "cell_type": "code",
   "execution_count": 28,
   "id": "2675839f",
   "metadata": {
    "execution": {
     "iopub.execute_input": "2022-08-03T12:22:28.776629Z",
     "iopub.status.busy": "2022-08-03T12:22:28.775588Z",
     "iopub.status.idle": "2022-08-03T12:22:34.814991Z",
     "shell.execute_reply": "2022-08-03T12:22:34.814231Z"
    },
    "papermill": {
     "duration": 6.085798,
     "end_time": "2022-08-03T12:22:34.815152",
     "exception": false,
     "start_time": "2022-08-03T12:22:28.729354",
     "status": "completed"
    },
    "tags": []
   },
   "outputs": [],
   "source": [
    "for a in df[\"lang_abv\"].unique().tolist():\n",
    "  datas=df[df[\"lang_abv\"]==a]\n",
    "  langu=datas[\"language\"].values.tolist()[0].lower()\n",
    "  texts=datas[\"hypothesis\"].values.tolist()\n",
    "  data=texts\n",
    "  clean_txt=[]\n",
    "  for i in range(0,len(data)):\n",
    "      text=data[i]\n",
    "      text=text.split()\n",
    "      ls=LancasterStemmer()#kelimelerden ekleri çıkararak kök bulma\n",
    "      if langu in list_stop:\n",
    "        text=[ls.stem(j)for j in text if not j in set(stop_words.get_stop_words(langu))]\n",
    "      else:\n",
    "        text=[ls.stem(j)for j in text]\n",
    "      lem=WordNetLemmatizer()#kelimelerden ekleri çıkararak kök bulma\n",
    "      if langu in list_stop:\n",
    "        text=[lem.lemmatize(j)for j in text if not j in set(stop_words.get_stop_words(langu))]\n",
    "      else:\n",
    "        text=[lem.lemmatize(j)for j in text ]\n",
    "      \n",
    "      #stopwords kaldırma   \n",
    "      text=\" \".join(text)#kelimeleri yeniden birleştirme\n",
    "      clean_txt.append(text)\n",
    "  df.loc[df[\"lang_abv\"]==a,\"hypothesis\"]=clean_txt"
   ]
  },
  {
   "cell_type": "code",
   "execution_count": 29,
   "id": "9f0b3c02",
   "metadata": {
    "execution": {
     "iopub.execute_input": "2022-08-03T12:22:34.916365Z",
     "iopub.status.busy": "2022-08-03T12:22:34.905922Z",
     "iopub.status.idle": "2022-08-03T12:22:34.920512Z",
     "shell.execute_reply": "2022-08-03T12:22:34.919798Z"
    },
    "papermill": {
     "duration": 0.061673,
     "end_time": "2022-08-03T12:22:34.920668",
     "exception": false,
     "start_time": "2022-08-03T12:22:34.858995",
     "status": "completed"
    },
    "tags": []
   },
   "outputs": [
    {
     "data": {
      "text/html": [
       "<div>\n",
       "<style scoped>\n",
       "    .dataframe tbody tr th:only-of-type {\n",
       "        vertical-align: middle;\n",
       "    }\n",
       "\n",
       "    .dataframe tbody tr th {\n",
       "        vertical-align: top;\n",
       "    }\n",
       "\n",
       "    .dataframe thead th {\n",
       "        text-align: right;\n",
       "    }\n",
       "</style>\n",
       "<table border=\"1\" class=\"dataframe\">\n",
       "  <thead>\n",
       "    <tr style=\"text-align: right;\">\n",
       "      <th></th>\n",
       "      <th>id</th>\n",
       "      <th>premise</th>\n",
       "      <th>hypothesis</th>\n",
       "      <th>lang_abv</th>\n",
       "      <th>language</th>\n",
       "      <th>label</th>\n",
       "    </tr>\n",
       "  </thead>\n",
       "  <tbody>\n",
       "    <tr>\n",
       "      <th>0</th>\n",
       "      <td>5130fd2cb5</td>\n",
       "      <td>com consid form interim rul</td>\n",
       "      <td>rul develop interim put togeth com mind</td>\n",
       "      <td>en</td>\n",
       "      <td>English</td>\n",
       "      <td>0.0</td>\n",
       "    </tr>\n",
       "    <tr>\n",
       "      <th>1</th>\n",
       "      <td>5b72532a0b</td>\n",
       "      <td>issu wrestl pract group law firm said</td>\n",
       "      <td>pract group permit work issu</td>\n",
       "      <td>en</td>\n",
       "      <td>English</td>\n",
       "      <td>2.0</td>\n",
       "    </tr>\n",
       "    <tr>\n",
       "      <th>2</th>\n",
       "      <td>3931fbe82a</td>\n",
       "      <td>petit chos celleslà différ énorm jessay</td>\n",
       "      <td>jessaya daccomplir quelqu chos</td>\n",
       "      <td>fr</td>\n",
       "      <td>French</td>\n",
       "      <td>0.0</td>\n",
       "    </tr>\n",
       "    <tr>\n",
       "      <th>3</th>\n",
       "      <td>5622f0c60b</td>\n",
       "      <td>know cant real defend lik somebody grown uh sa...</td>\n",
       "      <td>cant defend ag</td>\n",
       "      <td>en</td>\n",
       "      <td>English</td>\n",
       "      <td>0.0</td>\n",
       "    </tr>\n",
       "    <tr>\n",
       "      <th>4</th>\n",
       "      <td>86aaa48b45</td>\n",
       "      <td>ในการเลนบทบาทสมมตกเชนกน โอกาสทจะไดแสดงออกและได...</td>\n",
       "      <td>เดกสามารถเหนไดวาชาตพนธแตกตางกนอยางไร</td>\n",
       "      <td>th</td>\n",
       "      <td>Thai</td>\n",
       "      <td>1.0</td>\n",
       "    </tr>\n",
       "  </tbody>\n",
       "</table>\n",
       "</div>"
      ],
      "text/plain": [
       "           id                                            premise  \\\n",
       "0  5130fd2cb5                        com consid form interim rul   \n",
       "1  5b72532a0b              issu wrestl pract group law firm said   \n",
       "2  3931fbe82a            petit chos celleslà différ énorm jessay   \n",
       "3  5622f0c60b  know cant real defend lik somebody grown uh sa...   \n",
       "4  86aaa48b45  ในการเลนบทบาทสมมตกเชนกน โอกาสทจะไดแสดงออกและได...   \n",
       "\n",
       "                                hypothesis lang_abv language  label  \n",
       "0  rul develop interim put togeth com mind       en  English    0.0  \n",
       "1             pract group permit work issu       en  English    2.0  \n",
       "2           jessaya daccomplir quelqu chos       fr   French    0.0  \n",
       "3                           cant defend ag       en  English    0.0  \n",
       "4     เดกสามารถเหนไดวาชาตพนธแตกตางกนอยางไร       th     Thai    1.0  "
      ]
     },
     "execution_count": 29,
     "metadata": {},
     "output_type": "execute_result"
    }
   ],
   "source": [
    "df.head()"
   ]
  },
  {
   "cell_type": "code",
   "execution_count": 30,
   "id": "13c5c1a7",
   "metadata": {
    "execution": {
     "iopub.execute_input": "2022-08-03T12:22:35.015478Z",
     "iopub.status.busy": "2022-08-03T12:22:35.014467Z",
     "iopub.status.idle": "2022-08-03T12:22:35.023242Z",
     "shell.execute_reply": "2022-08-03T12:22:35.023734Z"
    },
    "papermill": {
     "duration": 0.059267,
     "end_time": "2022-08-03T12:22:35.023933",
     "exception": false,
     "start_time": "2022-08-03T12:22:34.964666",
     "status": "completed"
    },
    "tags": []
   },
   "outputs": [],
   "source": [
    "test=df[df[\"label\"].isnull()]\n",
    "train=df[df[\"label\"].notnull()]"
   ]
  },
  {
   "cell_type": "code",
   "execution_count": 31,
   "id": "4fe42cd5",
   "metadata": {
    "execution": {
     "iopub.execute_input": "2022-08-03T12:22:35.138417Z",
     "iopub.status.busy": "2022-08-03T12:22:35.137730Z",
     "iopub.status.idle": "2022-08-03T12:22:37.323134Z",
     "shell.execute_reply": "2022-08-03T12:22:37.322510Z"
    },
    "papermill": {
     "duration": 2.242265,
     "end_time": "2022-08-03T12:22:37.323312",
     "exception": false,
     "start_time": "2022-08-03T12:22:35.081047",
     "status": "completed"
    },
    "tags": []
   },
   "outputs": [
    {
     "data": {
      "application/vnd.jupyter.widget-view+json": {
       "model_id": "06c1f1ebb4434ad2a67ceb5e1e2b4a36",
       "version_major": 2,
       "version_minor": 0
      },
      "text/plain": [
       "Downloading:   0%|          | 0.00/996k [00:00<?, ?B/s]"
      ]
     },
     "metadata": {},
     "output_type": "display_data"
    },
    {
     "data": {
      "application/vnd.jupyter.widget-view+json": {
       "model_id": "b1b7baa8e73449b796f40d70b3b03844",
       "version_major": 2,
       "version_minor": 0
      },
      "text/plain": [
       "Downloading:   0%|          | 0.00/29.0 [00:00<?, ?B/s]"
      ]
     },
     "metadata": {},
     "output_type": "display_data"
    },
    {
     "data": {
      "application/vnd.jupyter.widget-view+json": {
       "model_id": "29cfbadacb604596a4139b47993e4811",
       "version_major": 2,
       "version_minor": 0
      },
      "text/plain": [
       "Downloading:   0%|          | 0.00/1.96M [00:00<?, ?B/s]"
      ]
     },
     "metadata": {},
     "output_type": "display_data"
    }
   ],
   "source": [
    "model_name = 'bert-base-multilingual-cased'\n",
    "tokenizer = BertTokenizer.from_pretrained(model_name)"
   ]
  },
  {
   "cell_type": "code",
   "execution_count": 32,
   "id": "4a3727ab",
   "metadata": {
    "execution": {
     "iopub.execute_input": "2022-08-03T12:22:37.421041Z",
     "iopub.status.busy": "2022-08-03T12:22:37.420311Z",
     "iopub.status.idle": "2022-08-03T12:22:37.422816Z",
     "shell.execute_reply": "2022-08-03T12:22:37.422187Z"
    },
    "papermill": {
     "duration": 0.053341,
     "end_time": "2022-08-03T12:22:37.422981",
     "exception": false,
     "start_time": "2022-08-03T12:22:37.369640",
     "status": "completed"
    },
    "tags": []
   },
   "outputs": [],
   "source": [
    "def encode_sentence(s):\n",
    "   tokens = list(tokenizer.tokenize(s))\n",
    "   tokens.append('[SEP]')\n",
    "   return tokenizer.convert_tokens_to_ids(tokens)"
   ]
  },
  {
   "cell_type": "code",
   "execution_count": 33,
   "id": "4daece1c",
   "metadata": {
    "execution": {
     "iopub.execute_input": "2022-08-03T12:22:37.518176Z",
     "iopub.status.busy": "2022-08-03T12:22:37.516733Z",
     "iopub.status.idle": "2022-08-03T12:22:37.520837Z",
     "shell.execute_reply": "2022-08-03T12:22:37.520208Z"
    },
    "papermill": {
     "duration": 0.052555,
     "end_time": "2022-08-03T12:22:37.521004",
     "exception": false,
     "start_time": "2022-08-03T12:22:37.468449",
     "status": "completed"
    },
    "tags": []
   },
   "outputs": [],
   "source": [
    "max_len = 200"
   ]
  },
  {
   "cell_type": "code",
   "execution_count": 34,
   "id": "47934ef0",
   "metadata": {
    "execution": {
     "iopub.execute_input": "2022-08-03T12:22:37.619243Z",
     "iopub.status.busy": "2022-08-03T12:22:37.618533Z",
     "iopub.status.idle": "2022-08-03T12:22:37.630326Z",
     "shell.execute_reply": "2022-08-03T12:22:37.629723Z"
    },
    "papermill": {
     "duration": 0.061437,
     "end_time": "2022-08-03T12:22:37.630476",
     "exception": false,
     "start_time": "2022-08-03T12:22:37.569039",
     "status": "completed"
    },
    "tags": []
   },
   "outputs": [],
   "source": [
    "def bert_encode(hypotheses, premises, tokenizer, max_len=100):\n",
    "\n",
    "  #Token embeddings\n",
    "  sentence1 = tf.ragged.constant([\n",
    "      encode_sentence(s)\n",
    "       for s in np.array(hypotheses)])\n",
    "  sentence2 = tf.ragged.constant([\n",
    "      encode_sentence(s)\n",
    "       for s in np.array(premises)])\n",
    "\n",
    "  cls = [tokenizer.convert_tokens_to_ids(['[CLS]'])]*sentence1.shape[0]\n",
    "  input_word_ids = tf.concat([cls, sentence1, sentence2], axis=-1)\n",
    "  pad = max_len-input_word_ids.to_tensor().shape[1]\n",
    "  if pad > 0:\n",
    "      pad_seq = tf.zeros((sentence1.shape[0], pad),dtype=np.int32)\n",
    "      input_word_ids = tf.concat([input_word_ids, pad_seq], axis=-1)\n",
    "\n",
    "  # The input mask to allow the model distinguish between the content and the padding.\n",
    "  input_mask = tf.ones_like(input_word_ids)\n",
    "  \n",
    "  # Sentence embedding\n",
    "  type_cls = tf.zeros_like(cls)\n",
    "  type_s1 = tf.zeros_like(sentence1)\n",
    "  type_s2 = tf.ones_like(sentence2)\n",
    "  input_type_ids = tf.concat(\n",
    "      [type_cls, type_s1, type_s2], axis=-1)\n",
    "  if pad > 0:\n",
    "      pad_seq = tf.zeros((sentence1.shape[0], pad),dtype=np.int32)\n",
    "      input_type_ids = tf.concat([input_type_ids, pad_seq], axis=-1)\n",
    "  \n",
    "  input_type_ids = input_type_ids.to_tensor()\n",
    "  input_mask = input_mask.to_tensor()\n",
    "  input_word_ids = input_word_ids.to_tensor()\n",
    "  inputs = {\n",
    "      'input_word_ids': input_word_ids[:,:max_len],\n",
    "      'input_mask': input_mask[:,:max_len],\n",
    "      'input_type_ids': input_type_ids[:,:max_len]\n",
    "      }\n",
    "  print('input_word_ids', inputs['input_word_ids'].shape)\n",
    "  print('input_mask', inputs['input_mask'].shape)\n",
    "  print('input_type_ids', inputs['input_type_ids'].shape)\n",
    "  return inputs"
   ]
  },
  {
   "cell_type": "code",
   "execution_count": 35,
   "id": "e16e9d9d",
   "metadata": {
    "execution": {
     "iopub.execute_input": "2022-08-03T12:22:37.727766Z",
     "iopub.status.busy": "2022-08-03T12:22:37.727055Z",
     "iopub.status.idle": "2022-08-03T12:22:46.599266Z",
     "shell.execute_reply": "2022-08-03T12:22:46.598680Z"
    },
    "papermill": {
     "duration": 8.923192,
     "end_time": "2022-08-03T12:22:46.599431",
     "exception": false,
     "start_time": "2022-08-03T12:22:37.676239",
     "status": "completed"
    },
    "tags": []
   },
   "outputs": [
    {
     "name": "stdout",
     "output_type": "stream",
     "text": [
      "input_word_ids (12120, 200)\n",
      "input_mask (12120, 200)\n",
      "input_type_ids (12120, 200)\n"
     ]
    }
   ],
   "source": [
    "train_input = bert_encode(train.premise.values, train.hypothesis.values, tokenizer,max_len)\n"
   ]
  },
  {
   "cell_type": "code",
   "execution_count": 36,
   "id": "66532f07",
   "metadata": {
    "execution": {
     "iopub.execute_input": "2022-08-03T12:22:46.697038Z",
     "iopub.status.busy": "2022-08-03T12:22:46.696010Z",
     "iopub.status.idle": "2022-08-03T12:22:50.659580Z",
     "shell.execute_reply": "2022-08-03T12:22:50.658820Z"
    },
    "papermill": {
     "duration": 4.013364,
     "end_time": "2022-08-03T12:22:50.659737",
     "exception": false,
     "start_time": "2022-08-03T12:22:46.646373",
     "status": "completed"
    },
    "tags": []
   },
   "outputs": [
    {
     "name": "stdout",
     "output_type": "stream",
     "text": [
      "input_word_ids (5195, 200)\n",
      "input_mask (5195, 200)\n",
      "input_type_ids (5195, 200)\n"
     ]
    }
   ],
   "source": [
    "test_input = bert_encode(test.premise.values, test.hypothesis.values, tokenizer,max_len)"
   ]
  },
  {
   "cell_type": "code",
   "execution_count": 37,
   "id": "ae0db736",
   "metadata": {
    "execution": {
     "iopub.execute_input": "2022-08-03T12:22:50.760676Z",
     "iopub.status.busy": "2022-08-03T12:22:50.759625Z",
     "iopub.status.idle": "2022-08-03T12:22:50.767461Z",
     "shell.execute_reply": "2022-08-03T12:22:50.767984Z"
    },
    "papermill": {
     "duration": 0.060529,
     "end_time": "2022-08-03T12:22:50.768189",
     "exception": false,
     "start_time": "2022-08-03T12:22:50.707660",
     "status": "completed"
    },
    "tags": []
   },
   "outputs": [],
   "source": [
    "\n",
    "def build_model():\n",
    "    bert_encoder = TFBertModel.from_pretrained(model_name)\n",
    "    input_word_ids = tf.keras.Input(shape=(max_len,), dtype=tf.int32, name=\"input_word_ids\")\n",
    "    input_mask = tf.keras.Input(shape=(max_len,), dtype=tf.int32, name=\"input_mask\")\n",
    "    input_type_ids = tf.keras.Input(shape=(max_len,), dtype=tf.int32, name=\"input_type_ids\")\n",
    "    \n",
    "    embedding = bert_encoder([input_word_ids, input_mask, input_type_ids])[0]\n",
    "    output = tf.keras.layers.Dense(3, activation='softmax')(embedding[:,0,:])\n",
    "    \n",
    "    model = tf.keras.Model(inputs=[input_word_ids, input_mask, input_type_ids], outputs=output)\n",
    "    model.compile(tf.keras.optimizers.Adam(lr=1e-5), loss='sparse_categorical_crossentropy', metrics=['accuracy'])\n",
    "    \n",
    "    return model\n"
   ]
  },
  {
   "cell_type": "code",
   "execution_count": 38,
   "id": "f76ad7c7",
   "metadata": {
    "execution": {
     "iopub.execute_input": "2022-08-03T12:22:50.871215Z",
     "iopub.status.busy": "2022-08-03T12:22:50.870436Z",
     "iopub.status.idle": "2022-08-03T12:23:43.559321Z",
     "shell.execute_reply": "2022-08-03T12:23:43.559831Z"
    },
    "papermill": {
     "duration": 52.744205,
     "end_time": "2022-08-03T12:23:43.560109",
     "exception": false,
     "start_time": "2022-08-03T12:22:50.815904",
     "status": "completed"
    },
    "tags": []
   },
   "outputs": [
    {
     "data": {
      "application/vnd.jupyter.widget-view+json": {
       "model_id": "d260a58e91a846b69c3b9278ea615cdc",
       "version_major": 2,
       "version_minor": 0
      },
      "text/plain": [
       "Downloading:   0%|          | 0.00/625 [00:00<?, ?B/s]"
      ]
     },
     "metadata": {},
     "output_type": "display_data"
    },
    {
     "data": {
      "application/vnd.jupyter.widget-view+json": {
       "model_id": "882360c589fa4c4c8133c67891294735",
       "version_major": 2,
       "version_minor": 0
      },
      "text/plain": [
       "Downloading:   0%|          | 0.00/1.08G [00:00<?, ?B/s]"
      ]
     },
     "metadata": {},
     "output_type": "display_data"
    },
    {
     "name": "stderr",
     "output_type": "stream",
     "text": [
      "Some layers from the model checkpoint at bert-base-multilingual-cased were not used when initializing TFBertModel: ['mlm___cls', 'nsp___cls']\n",
      "- This IS expected if you are initializing TFBertModel from the checkpoint of a model trained on another task or with another architecture (e.g. initializing a BertForSequenceClassification model from a BertForPreTraining model).\n",
      "- This IS NOT expected if you are initializing TFBertModel from the checkpoint of a model that you expect to be exactly identical (initializing a BertForSequenceClassification model from a BertForSequenceClassification model).\n",
      "All the layers of TFBertModel were initialized from the model checkpoint at bert-base-multilingual-cased.\n",
      "If your task is similar to the task the model of the checkpoint was trained on, you can already use TFBertModel for predictions without further training.\n"
     ]
    },
    {
     "name": "stdout",
     "output_type": "stream",
     "text": [
      "Model: \"model\"\n",
      "__________________________________________________________________________________________________\n",
      "Layer (type)                    Output Shape         Param #     Connected to                     \n",
      "==================================================================================================\n",
      "input_word_ids (InputLayer)     [(None, 200)]        0                                            \n",
      "__________________________________________________________________________________________________\n",
      "input_mask (InputLayer)         [(None, 200)]        0                                            \n",
      "__________________________________________________________________________________________________\n",
      "input_type_ids (InputLayer)     [(None, 200)]        0                                            \n",
      "__________________________________________________________________________________________________\n",
      "tf_bert_model (TFBertModel)     TFBaseModelOutputWit 177853440   input_word_ids[0][0]             \n",
      "                                                                 input_mask[0][0]                 \n",
      "                                                                 input_type_ids[0][0]             \n",
      "__________________________________________________________________________________________________\n",
      "tf.__operators__.getitem (Slici (None, 768)          0           tf_bert_model[0][0]              \n",
      "__________________________________________________________________________________________________\n",
      "dense (Dense)                   (None, 3)            2307        tf.__operators__.getitem[0][0]   \n",
      "==================================================================================================\n",
      "Total params: 177,855,747\n",
      "Trainable params: 177,855,747\n",
      "Non-trainable params: 0\n",
      "__________________________________________________________________________________________________\n"
     ]
    }
   ],
   "source": [
    "with strategy.scope():\n",
    "    model = build_model()\n",
    "    model.summary()"
   ]
  },
  {
   "cell_type": "code",
   "execution_count": null,
   "id": "c38d4662",
   "metadata": {
    "papermill": {
     "duration": 0.050013,
     "end_time": "2022-08-03T12:23:43.660642",
     "exception": false,
     "start_time": "2022-08-03T12:23:43.610629",
     "status": "completed"
    },
    "tags": []
   },
   "outputs": [],
   "source": []
  },
  {
   "cell_type": "code",
   "execution_count": 39,
   "id": "a47212c1",
   "metadata": {
    "execution": {
     "iopub.execute_input": "2022-08-03T12:23:43.778752Z",
     "iopub.status.busy": "2022-08-03T12:23:43.772158Z",
     "iopub.status.idle": "2022-08-03T12:31:10.044861Z",
     "shell.execute_reply": "2022-08-03T12:31:10.044245Z"
    },
    "papermill": {
     "duration": 446.329303,
     "end_time": "2022-08-03T12:31:10.045079",
     "exception": false,
     "start_time": "2022-08-03T12:23:43.715776",
     "status": "completed"
    },
    "tags": []
   },
   "outputs": [
    {
     "name": "stdout",
     "output_type": "stream",
     "text": [
      "Epoch 1/20\n",
      "152/152 [==============================] - 145s 479ms/step - loss: 1.0873 - accuracy: 0.3866 - val_loss: 1.0052 - val_accuracy: 0.5074\n",
      "Epoch 2/20\n",
      "152/152 [==============================] - 16s 103ms/step - loss: 0.9755 - accuracy: 0.5224 - val_loss: 0.9660 - val_accuracy: 0.5243\n",
      "Epoch 3/20\n",
      "152/152 [==============================] - 16s 104ms/step - loss: 0.8769 - accuracy: 0.5963 - val_loss: 0.9807 - val_accuracy: 0.5248\n",
      "Epoch 4/20\n",
      "152/152 [==============================] - 16s 104ms/step - loss: 0.7810 - accuracy: 0.6560 - val_loss: 1.0528 - val_accuracy: 0.5182\n",
      "Epoch 5/20\n",
      "152/152 [==============================] - 16s 104ms/step - loss: 0.6405 - accuracy: 0.7255 - val_loss: 1.2496 - val_accuracy: 0.5037\n",
      "Epoch 6/20\n",
      "152/152 [==============================] - 16s 104ms/step - loss: 0.5323 - accuracy: 0.7744 - val_loss: 1.3319 - val_accuracy: 0.4901\n",
      "Epoch 7/20\n",
      "152/152 [==============================] - 16s 104ms/step - loss: 0.3936 - accuracy: 0.8411 - val_loss: 1.4664 - val_accuracy: 0.4901\n",
      "Epoch 8/20\n",
      "152/152 [==============================] - 16s 105ms/step - loss: 0.3186 - accuracy: 0.8778 - val_loss: 1.8098 - val_accuracy: 0.4757\n",
      "Epoch 9/20\n",
      "152/152 [==============================] - 16s 104ms/step - loss: 0.2610 - accuracy: 0.8996 - val_loss: 1.9934 - val_accuracy: 0.4777\n",
      "Epoch 10/20\n",
      "152/152 [==============================] - 16s 104ms/step - loss: 0.2097 - accuracy: 0.9226 - val_loss: 2.1482 - val_accuracy: 0.4835\n",
      "Epoch 11/20\n",
      "152/152 [==============================] - 16s 104ms/step - loss: 0.1755 - accuracy: 0.9342 - val_loss: 2.1443 - val_accuracy: 0.4823\n",
      "Epoch 12/20\n",
      "152/152 [==============================] - 16s 104ms/step - loss: 0.1501 - accuracy: 0.9481 - val_loss: 2.4085 - val_accuracy: 0.4839\n",
      "Epoch 13/20\n",
      "152/152 [==============================] - 16s 104ms/step - loss: 0.1309 - accuracy: 0.9498 - val_loss: 2.4846 - val_accuracy: 0.4868\n",
      "Epoch 14/20\n",
      "152/152 [==============================] - 16s 104ms/step - loss: 0.1180 - accuracy: 0.9580 - val_loss: 2.7011 - val_accuracy: 0.4823\n",
      "Epoch 15/20\n",
      "152/152 [==============================] - 16s 104ms/step - loss: 0.1037 - accuracy: 0.9624 - val_loss: 2.6993 - val_accuracy: 0.4905\n",
      "Epoch 16/20\n",
      "152/152 [==============================] - 16s 104ms/step - loss: 0.0810 - accuracy: 0.9688 - val_loss: 2.9073 - val_accuracy: 0.4781\n",
      "Epoch 17/20\n",
      "152/152 [==============================] - 16s 105ms/step - loss: 0.0757 - accuracy: 0.9746 - val_loss: 2.9046 - val_accuracy: 0.4711\n",
      "Epoch 18/20\n",
      "152/152 [==============================] - 16s 105ms/step - loss: 0.0725 - accuracy: 0.9719 - val_loss: 3.1013 - val_accuracy: 0.4711\n",
      "Epoch 19/20\n",
      "152/152 [==============================] - 16s 104ms/step - loss: 0.0755 - accuracy: 0.9739 - val_loss: 3.2498 - val_accuracy: 0.4554\n",
      "Epoch 20/20\n",
      "152/152 [==============================] - 16s 103ms/step - loss: 0.0654 - accuracy: 0.9728 - val_loss: 3.0631 - val_accuracy: 0.4884\n"
     ]
    },
    {
     "data": {
      "text/plain": [
       "<tensorflow.python.keras.callbacks.History at 0x7f63cf5e2f10>"
      ]
     },
     "execution_count": 39,
     "metadata": {},
     "output_type": "execute_result"
    }
   ],
   "source": [
    "model.fit(train_input,\n",
    "          train.label.values, \n",
    "          epochs = 20, \n",
    "          verbose = 1, \n",
    "          batch_size = 64, \n",
    "          validation_split = 0.2)"
   ]
  },
  {
   "cell_type": "code",
   "execution_count": 40,
   "id": "fd78cc28",
   "metadata": {
    "execution": {
     "iopub.execute_input": "2022-08-03T12:31:11.957614Z",
     "iopub.status.busy": "2022-08-03T12:31:11.956711Z",
     "iopub.status.idle": "2022-08-03T12:31:26.988360Z",
     "shell.execute_reply": "2022-08-03T12:31:26.988905Z"
    },
    "papermill": {
     "duration": 15.984281,
     "end_time": "2022-08-03T12:31:26.989164",
     "exception": false,
     "start_time": "2022-08-03T12:31:11.004883",
     "status": "completed"
    },
    "tags": []
   },
   "outputs": [],
   "source": [
    "predictions = [np.argmax(i) for i in model.predict(test_input)]"
   ]
  },
  {
   "cell_type": "code",
   "execution_count": 41,
   "id": "5f7833a6",
   "metadata": {
    "execution": {
     "iopub.execute_input": "2022-08-03T12:31:28.952428Z",
     "iopub.status.busy": "2022-08-03T12:31:28.951687Z",
     "iopub.status.idle": "2022-08-03T12:31:28.954151Z",
     "shell.execute_reply": "2022-08-03T12:31:28.954744Z"
    },
    "papermill": {
     "duration": 1.020117,
     "end_time": "2022-08-03T12:31:28.954933",
     "exception": false,
     "start_time": "2022-08-03T12:31:27.934816",
     "status": "completed"
    },
    "tags": []
   },
   "outputs": [],
   "source": [
    "submission = test.id.copy().to_frame()\n",
    "submission['prediction'] = predictions"
   ]
  },
  {
   "cell_type": "code",
   "execution_count": 42,
   "id": "fa20b06a",
   "metadata": {
    "execution": {
     "iopub.execute_input": "2022-08-03T12:31:30.854147Z",
     "iopub.status.busy": "2022-08-03T12:31:30.853413Z",
     "iopub.status.idle": "2022-08-03T12:31:30.864819Z",
     "shell.execute_reply": "2022-08-03T12:31:30.864250Z"
    },
    "papermill": {
     "duration": 0.962431,
     "end_time": "2022-08-03T12:31:30.865037",
     "exception": false,
     "start_time": "2022-08-03T12:31:29.902606",
     "status": "completed"
    },
    "tags": []
   },
   "outputs": [
    {
     "data": {
      "text/html": [
       "<div>\n",
       "<style scoped>\n",
       "    .dataframe tbody tr th:only-of-type {\n",
       "        vertical-align: middle;\n",
       "    }\n",
       "\n",
       "    .dataframe tbody tr th {\n",
       "        vertical-align: top;\n",
       "    }\n",
       "\n",
       "    .dataframe thead th {\n",
       "        text-align: right;\n",
       "    }\n",
       "</style>\n",
       "<table border=\"1\" class=\"dataframe\">\n",
       "  <thead>\n",
       "    <tr style=\"text-align: right;\">\n",
       "      <th></th>\n",
       "      <th>id</th>\n",
       "      <th>prediction</th>\n",
       "    </tr>\n",
       "  </thead>\n",
       "  <tbody>\n",
       "    <tr>\n",
       "      <th>0</th>\n",
       "      <td>c6d58c3f69</td>\n",
       "      <td>2</td>\n",
       "    </tr>\n",
       "    <tr>\n",
       "      <th>1</th>\n",
       "      <td>cefcc82292</td>\n",
       "      <td>1</td>\n",
       "    </tr>\n",
       "    <tr>\n",
       "      <th>2</th>\n",
       "      <td>e98005252c</td>\n",
       "      <td>0</td>\n",
       "    </tr>\n",
       "    <tr>\n",
       "      <th>3</th>\n",
       "      <td>58518c10ba</td>\n",
       "      <td>1</td>\n",
       "    </tr>\n",
       "    <tr>\n",
       "      <th>4</th>\n",
       "      <td>c32b0d16df</td>\n",
       "      <td>1</td>\n",
       "    </tr>\n",
       "  </tbody>\n",
       "</table>\n",
       "</div>"
      ],
      "text/plain": [
       "           id  prediction\n",
       "0  c6d58c3f69           2\n",
       "1  cefcc82292           1\n",
       "2  e98005252c           0\n",
       "3  58518c10ba           1\n",
       "4  c32b0d16df           1"
      ]
     },
     "execution_count": 42,
     "metadata": {},
     "output_type": "execute_result"
    }
   ],
   "source": [
    "submission.head()"
   ]
  },
  {
   "cell_type": "code",
   "execution_count": 43,
   "id": "958a1c6a",
   "metadata": {
    "execution": {
     "iopub.execute_input": "2022-08-03T12:31:32.792847Z",
     "iopub.status.busy": "2022-08-03T12:31:32.792140Z",
     "iopub.status.idle": "2022-08-03T12:31:32.806795Z",
     "shell.execute_reply": "2022-08-03T12:31:32.807335Z"
    },
    "papermill": {
     "duration": 0.991771,
     "end_time": "2022-08-03T12:31:32.807555",
     "exception": false,
     "start_time": "2022-08-03T12:31:31.815784",
     "status": "completed"
    },
    "tags": []
   },
   "outputs": [],
   "source": [
    "submission.to_csv(\"submission.csv\", index = False)"
   ]
  },
  {
   "cell_type": "code",
   "execution_count": null,
   "id": "4dbcdc96",
   "metadata": {
    "papermill": {
     "duration": 0.974604,
     "end_time": "2022-08-03T12:31:34.752531",
     "exception": false,
     "start_time": "2022-08-03T12:31:33.777927",
     "status": "completed"
    },
    "tags": []
   },
   "outputs": [],
   "source": []
  }
 ],
 "metadata": {
  "kernelspec": {
   "display_name": "Python 3 (ipykernel)",
   "language": "python",
   "name": "python3"
  },
  "language_info": {
   "codemirror_mode": {
    "name": "ipython",
    "version": 3
   },
   "file_extension": ".py",
   "mimetype": "text/x-python",
   "name": "python",
   "nbconvert_exporter": "python",
   "pygments_lexer": "ipython3",
   "version": "3.9.7"
  },
  "papermill": {
   "default_parameters": {},
   "duration": 608.082043,
   "end_time": "2022-08-03T12:31:39.114025",
   "environment_variables": {},
   "exception": null,
   "input_path": "__notebook__.ipynb",
   "output_path": "__notebook__.ipynb",
   "parameters": {},
   "start_time": "2022-08-03T12:21:31.031982",
   "version": "2.3.3"
  },
  "widgets": {
   "application/vnd.jupyter.widget-state+json": {
    "state": {
     "0120c7b7104d4f768fd3230c25309300": {
      "model_module": "@jupyter-widgets/controls",
      "model_module_version": "1.5.0",
      "model_name": "HTMLModel",
      "state": {
       "_dom_classes": [],
       "_model_module": "@jupyter-widgets/controls",
       "_model_module_version": "1.5.0",
       "_model_name": "HTMLModel",
       "_view_count": null,
       "_view_module": "@jupyter-widgets/controls",
       "_view_module_version": "1.5.0",
       "_view_name": "HTMLView",
       "description": "",
       "description_tooltip": null,
       "layout": "IPY_MODEL_ded59988c57c4290b8f2bef859cf7adb",
       "placeholder": "​",
       "style": "IPY_MODEL_7cb09765fe2f42d88e43e34288f4bbcf",
       "value": "Downloading: 100%"
      }
     },
     "04887185fd0849349996ba4dc0a86e9e": {
      "model_module": "@jupyter-widgets/controls",
      "model_module_version": "1.5.0",
      "model_name": "HTMLModel",
      "state": {
       "_dom_classes": [],
       "_model_module": "@jupyter-widgets/controls",
       "_model_module_version": "1.5.0",
       "_model_name": "HTMLModel",
       "_view_count": null,
       "_view_module": "@jupyter-widgets/controls",
       "_view_module_version": "1.5.0",
       "_view_name": "HTMLView",
       "description": "",
       "description_tooltip": null,
       "layout": "IPY_MODEL_c0abfbbb414348a18dea6c0180a077c7",
       "placeholder": "​",
       "style": "IPY_MODEL_1e7b21d39f6d4fa5a97b46c6e84cdd25",
       "value": "Downloading: 100%"
      }
     },
     "06c1f1ebb4434ad2a67ceb5e1e2b4a36": {
      "model_module": "@jupyter-widgets/controls",
      "model_module_version": "1.5.0",
      "model_name": "HBoxModel",
      "state": {
       "_dom_classes": [],
       "_model_module": "@jupyter-widgets/controls",
       "_model_module_version": "1.5.0",
       "_model_name": "HBoxModel",
       "_view_count": null,
       "_view_module": "@jupyter-widgets/controls",
       "_view_module_version": "1.5.0",
       "_view_name": "HBoxView",
       "box_style": "",
       "children": [
        "IPY_MODEL_a80e70757ea54a13a64c5d8687781071",
        "IPY_MODEL_09b5696acac647b697a452209ab4ab53",
        "IPY_MODEL_32427b17ea4c43299a55ad0f376ceb91"
       ],
       "layout": "IPY_MODEL_9a0d6fee1054446cb4e07319b3e42bd8"
      }
     },
     "09b5696acac647b697a452209ab4ab53": {
      "model_module": "@jupyter-widgets/controls",
      "model_module_version": "1.5.0",
      "model_name": "FloatProgressModel",
      "state": {
       "_dom_classes": [],
       "_model_module": "@jupyter-widgets/controls",
       "_model_module_version": "1.5.0",
       "_model_name": "FloatProgressModel",
       "_view_count": null,
       "_view_module": "@jupyter-widgets/controls",
       "_view_module_version": "1.5.0",
       "_view_name": "ProgressView",
       "bar_style": "success",
       "description": "",
       "description_tooltip": null,
       "layout": "IPY_MODEL_b6a875bdb111460cbe2876561a2024ca",
       "max": 995526,
       "min": 0,
       "orientation": "horizontal",
       "style": "IPY_MODEL_ff9b367c7cad4ef2b493fc57cd017c03",
       "value": 995526
      }
     },
     "0e1589d4b50e4f8ea9cb6dfdab7ee8f8": {
      "model_module": "@jupyter-widgets/controls",
      "model_module_version": "1.5.0",
      "model_name": "DescriptionStyleModel",
      "state": {
       "_model_module": "@jupyter-widgets/controls",
       "_model_module_version": "1.5.0",
       "_model_name": "DescriptionStyleModel",
       "_view_count": null,
       "_view_module": "@jupyter-widgets/base",
       "_view_module_version": "1.2.0",
       "_view_name": "StyleView",
       "description_width": ""
      }
     },
     "14482c3bacdd4f14b3f19a4e4c3917eb": {
      "model_module": "@jupyter-widgets/controls",
      "model_module_version": "1.5.0",
      "model_name": "DescriptionStyleModel",
      "state": {
       "_model_module": "@jupyter-widgets/controls",
       "_model_module_version": "1.5.0",
       "_model_name": "DescriptionStyleModel",
       "_view_count": null,
       "_view_module": "@jupyter-widgets/base",
       "_view_module_version": "1.2.0",
       "_view_name": "StyleView",
       "description_width": ""
      }
     },
     "145c909b9a8d49ebad16af8b0cfa0655": {
      "model_module": "@jupyter-widgets/controls",
      "model_module_version": "1.5.0",
      "model_name": "ProgressStyleModel",
      "state": {
       "_model_module": "@jupyter-widgets/controls",
       "_model_module_version": "1.5.0",
       "_model_name": "ProgressStyleModel",
       "_view_count": null,
       "_view_module": "@jupyter-widgets/base",
       "_view_module_version": "1.2.0",
       "_view_name": "StyleView",
       "bar_color": null,
       "description_width": ""
      }
     },
     "16a3f650c281440583b9af0ad8a9b833": {
      "model_module": "@jupyter-widgets/controls",
      "model_module_version": "1.5.0",
      "model_name": "FloatProgressModel",
      "state": {
       "_dom_classes": [],
       "_model_module": "@jupyter-widgets/controls",
       "_model_module_version": "1.5.0",
       "_model_name": "FloatProgressModel",
       "_view_count": null,
       "_view_module": "@jupyter-widgets/controls",
       "_view_module_version": "1.5.0",
       "_view_name": "ProgressView",
       "bar_style": "success",
       "description": "",
       "description_tooltip": null,
       "layout": "IPY_MODEL_c52218bcef8c4938803258061dc83bbf",
       "max": 1083389348,
       "min": 0,
       "orientation": "horizontal",
       "style": "IPY_MODEL_145c909b9a8d49ebad16af8b0cfa0655",
       "value": 1083389348
      }
     },
     "1e7b21d39f6d4fa5a97b46c6e84cdd25": {
      "model_module": "@jupyter-widgets/controls",
      "model_module_version": "1.5.0",
      "model_name": "DescriptionStyleModel",
      "state": {
       "_model_module": "@jupyter-widgets/controls",
       "_model_module_version": "1.5.0",
       "_model_name": "DescriptionStyleModel",
       "_view_count": null,
       "_view_module": "@jupyter-widgets/base",
       "_view_module_version": "1.2.0",
       "_view_name": "StyleView",
       "description_width": ""
      }
     },
     "295172d4cc8f4ff59d49053a88b389c3": {
      "model_module": "@jupyter-widgets/base",
      "model_module_version": "1.2.0",
      "model_name": "LayoutModel",
      "state": {
       "_model_module": "@jupyter-widgets/base",
       "_model_module_version": "1.2.0",
       "_model_name": "LayoutModel",
       "_view_count": null,
       "_view_module": "@jupyter-widgets/base",
       "_view_module_version": "1.2.0",
       "_view_name": "LayoutView",
       "align_content": null,
       "align_items": null,
       "align_self": null,
       "border": null,
       "bottom": null,
       "display": null,
       "flex": null,
       "flex_flow": null,
       "grid_area": null,
       "grid_auto_columns": null,
       "grid_auto_flow": null,
       "grid_auto_rows": null,
       "grid_column": null,
       "grid_gap": null,
       "grid_row": null,
       "grid_template_areas": null,
       "grid_template_columns": null,
       "grid_template_rows": null,
       "height": null,
       "justify_content": null,
       "justify_items": null,
       "left": null,
       "margin": null,
       "max_height": null,
       "max_width": null,
       "min_height": null,
       "min_width": null,
       "object_fit": null,
       "object_position": null,
       "order": null,
       "overflow": null,
       "overflow_x": null,
       "overflow_y": null,
       "padding": null,
       "right": null,
       "top": null,
       "visibility": null,
       "width": null
      }
     },
     "29cfbadacb604596a4139b47993e4811": {
      "model_module": "@jupyter-widgets/controls",
      "model_module_version": "1.5.0",
      "model_name": "HBoxModel",
      "state": {
       "_dom_classes": [],
       "_model_module": "@jupyter-widgets/controls",
       "_model_module_version": "1.5.0",
       "_model_name": "HBoxModel",
       "_view_count": null,
       "_view_module": "@jupyter-widgets/controls",
       "_view_module_version": "1.5.0",
       "_view_name": "HBoxView",
       "box_style": "",
       "children": [
        "IPY_MODEL_4b3c1cefeffd45639caeff516f44f383",
        "IPY_MODEL_ecd070973d3e4db391ead0b98a22a961",
        "IPY_MODEL_2fdb47c7f5b44559911e5b61b80306f7"
       ],
       "layout": "IPY_MODEL_97107258d4844012ae5fa66411ed2663"
      }
     },
     "2e45f94421864798bf7ad6f4fc91106b": {
      "model_module": "@jupyter-widgets/controls",
      "model_module_version": "1.5.0",
      "model_name": "ProgressStyleModel",
      "state": {
       "_model_module": "@jupyter-widgets/controls",
       "_model_module_version": "1.5.0",
       "_model_name": "ProgressStyleModel",
       "_view_count": null,
       "_view_module": "@jupyter-widgets/base",
       "_view_module_version": "1.2.0",
       "_view_name": "StyleView",
       "bar_color": null,
       "description_width": ""
      }
     },
     "2fdb47c7f5b44559911e5b61b80306f7": {
      "model_module": "@jupyter-widgets/controls",
      "model_module_version": "1.5.0",
      "model_name": "HTMLModel",
      "state": {
       "_dom_classes": [],
       "_model_module": "@jupyter-widgets/controls",
       "_model_module_version": "1.5.0",
       "_model_name": "HTMLModel",
       "_view_count": null,
       "_view_module": "@jupyter-widgets/controls",
       "_view_module_version": "1.5.0",
       "_view_name": "HTMLView",
       "description": "",
       "description_tooltip": null,
       "layout": "IPY_MODEL_ebf94a83a7f24faf86284c5ca633866a",
       "placeholder": "​",
       "style": "IPY_MODEL_14482c3bacdd4f14b3f19a4e4c3917eb",
       "value": " 1.96M/1.96M [00:00&lt;00:00, 9.82MB/s]"
      }
     },
     "32427b17ea4c43299a55ad0f376ceb91": {
      "model_module": "@jupyter-widgets/controls",
      "model_module_version": "1.5.0",
      "model_name": "HTMLModel",
      "state": {
       "_dom_classes": [],
       "_model_module": "@jupyter-widgets/controls",
       "_model_module_version": "1.5.0",
       "_model_name": "HTMLModel",
       "_view_count": null,
       "_view_module": "@jupyter-widgets/controls",
       "_view_module_version": "1.5.0",
       "_view_name": "HTMLView",
       "description": "",
       "description_tooltip": null,
       "layout": "IPY_MODEL_ccb39fbb13b147378b06110f78665a24",
       "placeholder": "​",
       "style": "IPY_MODEL_0e1589d4b50e4f8ea9cb6dfdab7ee8f8",
       "value": " 996k/996k [00:00&lt;00:00, 1.21MB/s]"
      }
     },
     "32ed9b00fcaa43ffa4575f5fd90ec1c2": {
      "model_module": "@jupyter-widgets/controls",
      "model_module_version": "1.5.0",
      "model_name": "DescriptionStyleModel",
      "state": {
       "_model_module": "@jupyter-widgets/controls",
       "_model_module_version": "1.5.0",
       "_model_name": "DescriptionStyleModel",
       "_view_count": null,
       "_view_module": "@jupyter-widgets/base",
       "_view_module_version": "1.2.0",
       "_view_name": "StyleView",
       "description_width": ""
      }
     },
     "46eb7a1e0651470980f05463de2b157c": {
      "model_module": "@jupyter-widgets/controls",
      "model_module_version": "1.5.0",
      "model_name": "HTMLModel",
      "state": {
       "_dom_classes": [],
       "_model_module": "@jupyter-widgets/controls",
       "_model_module_version": "1.5.0",
       "_model_name": "HTMLModel",
       "_view_count": null,
       "_view_module": "@jupyter-widgets/controls",
       "_view_module_version": "1.5.0",
       "_view_name": "HTMLView",
       "description": "",
       "description_tooltip": null,
       "layout": "IPY_MODEL_75cc4eca957f4630b95505a5dab46e6d",
       "placeholder": "​",
       "style": "IPY_MODEL_32ed9b00fcaa43ffa4575f5fd90ec1c2",
       "value": " 1.08G/1.08G [00:24&lt;00:00, 49.5MB/s]"
      }
     },
     "4939ca9a89664cd287daf2851584fc5e": {
      "model_module": "@jupyter-widgets/base",
      "model_module_version": "1.2.0",
      "model_name": "LayoutModel",
      "state": {
       "_model_module": "@jupyter-widgets/base",
       "_model_module_version": "1.2.0",
       "_model_name": "LayoutModel",
       "_view_count": null,
       "_view_module": "@jupyter-widgets/base",
       "_view_module_version": "1.2.0",
       "_view_name": "LayoutView",
       "align_content": null,
       "align_items": null,
       "align_self": null,
       "border": null,
       "bottom": null,
       "display": null,
       "flex": null,
       "flex_flow": null,
       "grid_area": null,
       "grid_auto_columns": null,
       "grid_auto_flow": null,
       "grid_auto_rows": null,
       "grid_column": null,
       "grid_gap": null,
       "grid_row": null,
       "grid_template_areas": null,
       "grid_template_columns": null,
       "grid_template_rows": null,
       "height": null,
       "justify_content": null,
       "justify_items": null,
       "left": null,
       "margin": null,
       "max_height": null,
       "max_width": null,
       "min_height": null,
       "min_width": null,
       "object_fit": null,
       "object_position": null,
       "order": null,
       "overflow": null,
       "overflow_x": null,
       "overflow_y": null,
       "padding": null,
       "right": null,
       "top": null,
       "visibility": null,
       "width": null
      }
     },
     "4b3c1cefeffd45639caeff516f44f383": {
      "model_module": "@jupyter-widgets/controls",
      "model_module_version": "1.5.0",
      "model_name": "HTMLModel",
      "state": {
       "_dom_classes": [],
       "_model_module": "@jupyter-widgets/controls",
       "_model_module_version": "1.5.0",
       "_model_name": "HTMLModel",
       "_view_count": null,
       "_view_module": "@jupyter-widgets/controls",
       "_view_module_version": "1.5.0",
       "_view_name": "HTMLView",
       "description": "",
       "description_tooltip": null,
       "layout": "IPY_MODEL_6193b35fbf3f4f1e8981839cc76194ab",
       "placeholder": "​",
       "style": "IPY_MODEL_794d4a59780d4e1b951a34a1023f59a4",
       "value": "Downloading: 100%"
      }
     },
     "5466ea47dbfe47ec9edc7e33d109a4ac": {
      "model_module": "@jupyter-widgets/controls",
      "model_module_version": "1.5.0",
      "model_name": "HTMLModel",
      "state": {
       "_dom_classes": [],
       "_model_module": "@jupyter-widgets/controls",
       "_model_module_version": "1.5.0",
       "_model_name": "HTMLModel",
       "_view_count": null,
       "_view_module": "@jupyter-widgets/controls",
       "_view_module_version": "1.5.0",
       "_view_name": "HTMLView",
       "description": "",
       "description_tooltip": null,
       "layout": "IPY_MODEL_66a06335d60a4bcea1067867898055b3",
       "placeholder": "​",
       "style": "IPY_MODEL_b3b94ba2cc0a45c3b62840639872b014",
       "value": "Downloading: 100%"
      }
     },
     "55ccbb0ee488427996fdb17fdf982e9d": {
      "model_module": "@jupyter-widgets/controls",
      "model_module_version": "1.5.0",
      "model_name": "FloatProgressModel",
      "state": {
       "_dom_classes": [],
       "_model_module": "@jupyter-widgets/controls",
       "_model_module_version": "1.5.0",
       "_model_name": "FloatProgressModel",
       "_view_count": null,
       "_view_module": "@jupyter-widgets/controls",
       "_view_module_version": "1.5.0",
       "_view_name": "ProgressView",
       "bar_style": "success",
       "description": "",
       "description_tooltip": null,
       "layout": "IPY_MODEL_4939ca9a89664cd287daf2851584fc5e",
       "max": 625,
       "min": 0,
       "orientation": "horizontal",
       "style": "IPY_MODEL_a7586e48b4ac4d2695c662ee7456cee7",
       "value": 625
      }
     },
     "5fd5d8d99919492bbd0619e46121161e": {
      "model_module": "@jupyter-widgets/base",
      "model_module_version": "1.2.0",
      "model_name": "LayoutModel",
      "state": {
       "_model_module": "@jupyter-widgets/base",
       "_model_module_version": "1.2.0",
       "_model_name": "LayoutModel",
       "_view_count": null,
       "_view_module": "@jupyter-widgets/base",
       "_view_module_version": "1.2.0",
       "_view_name": "LayoutView",
       "align_content": null,
       "align_items": null,
       "align_self": null,
       "border": null,
       "bottom": null,
       "display": null,
       "flex": null,
       "flex_flow": null,
       "grid_area": null,
       "grid_auto_columns": null,
       "grid_auto_flow": null,
       "grid_auto_rows": null,
       "grid_column": null,
       "grid_gap": null,
       "grid_row": null,
       "grid_template_areas": null,
       "grid_template_columns": null,
       "grid_template_rows": null,
       "height": null,
       "justify_content": null,
       "justify_items": null,
       "left": null,
       "margin": null,
       "max_height": null,
       "max_width": null,
       "min_height": null,
       "min_width": null,
       "object_fit": null,
       "object_position": null,
       "order": null,
       "overflow": null,
       "overflow_x": null,
       "overflow_y": null,
       "padding": null,
       "right": null,
       "top": null,
       "visibility": null,
       "width": null
      }
     },
     "6193b35fbf3f4f1e8981839cc76194ab": {
      "model_module": "@jupyter-widgets/base",
      "model_module_version": "1.2.0",
      "model_name": "LayoutModel",
      "state": {
       "_model_module": "@jupyter-widgets/base",
       "_model_module_version": "1.2.0",
       "_model_name": "LayoutModel",
       "_view_count": null,
       "_view_module": "@jupyter-widgets/base",
       "_view_module_version": "1.2.0",
       "_view_name": "LayoutView",
       "align_content": null,
       "align_items": null,
       "align_self": null,
       "border": null,
       "bottom": null,
       "display": null,
       "flex": null,
       "flex_flow": null,
       "grid_area": null,
       "grid_auto_columns": null,
       "grid_auto_flow": null,
       "grid_auto_rows": null,
       "grid_column": null,
       "grid_gap": null,
       "grid_row": null,
       "grid_template_areas": null,
       "grid_template_columns": null,
       "grid_template_rows": null,
       "height": null,
       "justify_content": null,
       "justify_items": null,
       "left": null,
       "margin": null,
       "max_height": null,
       "max_width": null,
       "min_height": null,
       "min_width": null,
       "object_fit": null,
       "object_position": null,
       "order": null,
       "overflow": null,
       "overflow_x": null,
       "overflow_y": null,
       "padding": null,
       "right": null,
       "top": null,
       "visibility": null,
       "width": null
      }
     },
     "61e97d4d1b094eb2a86eba24168874cc": {
      "model_module": "@jupyter-widgets/base",
      "model_module_version": "1.2.0",
      "model_name": "LayoutModel",
      "state": {
       "_model_module": "@jupyter-widgets/base",
       "_model_module_version": "1.2.0",
       "_model_name": "LayoutModel",
       "_view_count": null,
       "_view_module": "@jupyter-widgets/base",
       "_view_module_version": "1.2.0",
       "_view_name": "LayoutView",
       "align_content": null,
       "align_items": null,
       "align_self": null,
       "border": null,
       "bottom": null,
       "display": null,
       "flex": null,
       "flex_flow": null,
       "grid_area": null,
       "grid_auto_columns": null,
       "grid_auto_flow": null,
       "grid_auto_rows": null,
       "grid_column": null,
       "grid_gap": null,
       "grid_row": null,
       "grid_template_areas": null,
       "grid_template_columns": null,
       "grid_template_rows": null,
       "height": null,
       "justify_content": null,
       "justify_items": null,
       "left": null,
       "margin": null,
       "max_height": null,
       "max_width": null,
       "min_height": null,
       "min_width": null,
       "object_fit": null,
       "object_position": null,
       "order": null,
       "overflow": null,
       "overflow_x": null,
       "overflow_y": null,
       "padding": null,
       "right": null,
       "top": null,
       "visibility": null,
       "width": null
      }
     },
     "66a06335d60a4bcea1067867898055b3": {
      "model_module": "@jupyter-widgets/base",
      "model_module_version": "1.2.0",
      "model_name": "LayoutModel",
      "state": {
       "_model_module": "@jupyter-widgets/base",
       "_model_module_version": "1.2.0",
       "_model_name": "LayoutModel",
       "_view_count": null,
       "_view_module": "@jupyter-widgets/base",
       "_view_module_version": "1.2.0",
       "_view_name": "LayoutView",
       "align_content": null,
       "align_items": null,
       "align_self": null,
       "border": null,
       "bottom": null,
       "display": null,
       "flex": null,
       "flex_flow": null,
       "grid_area": null,
       "grid_auto_columns": null,
       "grid_auto_flow": null,
       "grid_auto_rows": null,
       "grid_column": null,
       "grid_gap": null,
       "grid_row": null,
       "grid_template_areas": null,
       "grid_template_columns": null,
       "grid_template_rows": null,
       "height": null,
       "justify_content": null,
       "justify_items": null,
       "left": null,
       "margin": null,
       "max_height": null,
       "max_width": null,
       "min_height": null,
       "min_width": null,
       "object_fit": null,
       "object_position": null,
       "order": null,
       "overflow": null,
       "overflow_x": null,
       "overflow_y": null,
       "padding": null,
       "right": null,
       "top": null,
       "visibility": null,
       "width": null
      }
     },
     "6fcac719ca784984a7e765a05a506b0c": {
      "model_module": "@jupyter-widgets/controls",
      "model_module_version": "1.5.0",
      "model_name": "DescriptionStyleModel",
      "state": {
       "_model_module": "@jupyter-widgets/controls",
       "_model_module_version": "1.5.0",
       "_model_name": "DescriptionStyleModel",
       "_view_count": null,
       "_view_module": "@jupyter-widgets/base",
       "_view_module_version": "1.2.0",
       "_view_name": "StyleView",
       "description_width": ""
      }
     },
     "75cc4eca957f4630b95505a5dab46e6d": {
      "model_module": "@jupyter-widgets/base",
      "model_module_version": "1.2.0",
      "model_name": "LayoutModel",
      "state": {
       "_model_module": "@jupyter-widgets/base",
       "_model_module_version": "1.2.0",
       "_model_name": "LayoutModel",
       "_view_count": null,
       "_view_module": "@jupyter-widgets/base",
       "_view_module_version": "1.2.0",
       "_view_name": "LayoutView",
       "align_content": null,
       "align_items": null,
       "align_self": null,
       "border": null,
       "bottom": null,
       "display": null,
       "flex": null,
       "flex_flow": null,
       "grid_area": null,
       "grid_auto_columns": null,
       "grid_auto_flow": null,
       "grid_auto_rows": null,
       "grid_column": null,
       "grid_gap": null,
       "grid_row": null,
       "grid_template_areas": null,
       "grid_template_columns": null,
       "grid_template_rows": null,
       "height": null,
       "justify_content": null,
       "justify_items": null,
       "left": null,
       "margin": null,
       "max_height": null,
       "max_width": null,
       "min_height": null,
       "min_width": null,
       "object_fit": null,
       "object_position": null,
       "order": null,
       "overflow": null,
       "overflow_x": null,
       "overflow_y": null,
       "padding": null,
       "right": null,
       "top": null,
       "visibility": null,
       "width": null
      }
     },
     "794d4a59780d4e1b951a34a1023f59a4": {
      "model_module": "@jupyter-widgets/controls",
      "model_module_version": "1.5.0",
      "model_name": "DescriptionStyleModel",
      "state": {
       "_model_module": "@jupyter-widgets/controls",
       "_model_module_version": "1.5.0",
       "_model_name": "DescriptionStyleModel",
       "_view_count": null,
       "_view_module": "@jupyter-widgets/base",
       "_view_module_version": "1.2.0",
       "_view_name": "StyleView",
       "description_width": ""
      }
     },
     "7ac8973df03a4c6fa0c9c0d99c933028": {
      "model_module": "@jupyter-widgets/base",
      "model_module_version": "1.2.0",
      "model_name": "LayoutModel",
      "state": {
       "_model_module": "@jupyter-widgets/base",
       "_model_module_version": "1.2.0",
       "_model_name": "LayoutModel",
       "_view_count": null,
       "_view_module": "@jupyter-widgets/base",
       "_view_module_version": "1.2.0",
       "_view_name": "LayoutView",
       "align_content": null,
       "align_items": null,
       "align_self": null,
       "border": null,
       "bottom": null,
       "display": null,
       "flex": null,
       "flex_flow": null,
       "grid_area": null,
       "grid_auto_columns": null,
       "grid_auto_flow": null,
       "grid_auto_rows": null,
       "grid_column": null,
       "grid_gap": null,
       "grid_row": null,
       "grid_template_areas": null,
       "grid_template_columns": null,
       "grid_template_rows": null,
       "height": null,
       "justify_content": null,
       "justify_items": null,
       "left": null,
       "margin": null,
       "max_height": null,
       "max_width": null,
       "min_height": null,
       "min_width": null,
       "object_fit": null,
       "object_position": null,
       "order": null,
       "overflow": null,
       "overflow_x": null,
       "overflow_y": null,
       "padding": null,
       "right": null,
       "top": null,
       "visibility": null,
       "width": null
      }
     },
     "7cb09765fe2f42d88e43e34288f4bbcf": {
      "model_module": "@jupyter-widgets/controls",
      "model_module_version": "1.5.0",
      "model_name": "DescriptionStyleModel",
      "state": {
       "_model_module": "@jupyter-widgets/controls",
       "_model_module_version": "1.5.0",
       "_model_name": "DescriptionStyleModel",
       "_view_count": null,
       "_view_module": "@jupyter-widgets/base",
       "_view_module_version": "1.2.0",
       "_view_name": "StyleView",
       "description_width": ""
      }
     },
     "7feef2a2358548d19acfa88f6028b947": {
      "model_module": "@jupyter-widgets/controls",
      "model_module_version": "1.5.0",
      "model_name": "ProgressStyleModel",
      "state": {
       "_model_module": "@jupyter-widgets/controls",
       "_model_module_version": "1.5.0",
       "_model_name": "ProgressStyleModel",
       "_view_count": null,
       "_view_module": "@jupyter-widgets/base",
       "_view_module_version": "1.2.0",
       "_view_name": "StyleView",
       "bar_color": null,
       "description_width": ""
      }
     },
     "8510634bed0e41f58d013c7d6cbb9aec": {
      "model_module": "@jupyter-widgets/base",
      "model_module_version": "1.2.0",
      "model_name": "LayoutModel",
      "state": {
       "_model_module": "@jupyter-widgets/base",
       "_model_module_version": "1.2.0",
       "_model_name": "LayoutModel",
       "_view_count": null,
       "_view_module": "@jupyter-widgets/base",
       "_view_module_version": "1.2.0",
       "_view_name": "LayoutView",
       "align_content": null,
       "align_items": null,
       "align_self": null,
       "border": null,
       "bottom": null,
       "display": null,
       "flex": null,
       "flex_flow": null,
       "grid_area": null,
       "grid_auto_columns": null,
       "grid_auto_flow": null,
       "grid_auto_rows": null,
       "grid_column": null,
       "grid_gap": null,
       "grid_row": null,
       "grid_template_areas": null,
       "grid_template_columns": null,
       "grid_template_rows": null,
       "height": null,
       "justify_content": null,
       "justify_items": null,
       "left": null,
       "margin": null,
       "max_height": null,
       "max_width": null,
       "min_height": null,
       "min_width": null,
       "object_fit": null,
       "object_position": null,
       "order": null,
       "overflow": null,
       "overflow_x": null,
       "overflow_y": null,
       "padding": null,
       "right": null,
       "top": null,
       "visibility": null,
       "width": null
      }
     },
     "882360c589fa4c4c8133c67891294735": {
      "model_module": "@jupyter-widgets/controls",
      "model_module_version": "1.5.0",
      "model_name": "HBoxModel",
      "state": {
       "_dom_classes": [],
       "_model_module": "@jupyter-widgets/controls",
       "_model_module_version": "1.5.0",
       "_model_name": "HBoxModel",
       "_view_count": null,
       "_view_module": "@jupyter-widgets/controls",
       "_view_module_version": "1.5.0",
       "_view_name": "HBoxView",
       "box_style": "",
       "children": [
        "IPY_MODEL_5466ea47dbfe47ec9edc7e33d109a4ac",
        "IPY_MODEL_16a3f650c281440583b9af0ad8a9b833",
        "IPY_MODEL_46eb7a1e0651470980f05463de2b157c"
       ],
       "layout": "IPY_MODEL_61e97d4d1b094eb2a86eba24168874cc"
      }
     },
     "8cac0b7741f94582af05c52c13984ee1": {
      "model_module": "@jupyter-widgets/controls",
      "model_module_version": "1.5.0",
      "model_name": "DescriptionStyleModel",
      "state": {
       "_model_module": "@jupyter-widgets/controls",
       "_model_module_version": "1.5.0",
       "_model_name": "DescriptionStyleModel",
       "_view_count": null,
       "_view_module": "@jupyter-widgets/base",
       "_view_module_version": "1.2.0",
       "_view_name": "StyleView",
       "description_width": ""
      }
     },
     "8d21bfe766f641869a6ddcbb63ec3e4c": {
      "model_module": "@jupyter-widgets/controls",
      "model_module_version": "1.5.0",
      "model_name": "FloatProgressModel",
      "state": {
       "_dom_classes": [],
       "_model_module": "@jupyter-widgets/controls",
       "_model_module_version": "1.5.0",
       "_model_name": "FloatProgressModel",
       "_view_count": null,
       "_view_module": "@jupyter-widgets/controls",
       "_view_module_version": "1.5.0",
       "_view_name": "ProgressView",
       "bar_style": "success",
       "description": "",
       "description_tooltip": null,
       "layout": "IPY_MODEL_5fd5d8d99919492bbd0619e46121161e",
       "max": 29,
       "min": 0,
       "orientation": "horizontal",
       "style": "IPY_MODEL_7feef2a2358548d19acfa88f6028b947",
       "value": 29
      }
     },
     "97107258d4844012ae5fa66411ed2663": {
      "model_module": "@jupyter-widgets/base",
      "model_module_version": "1.2.0",
      "model_name": "LayoutModel",
      "state": {
       "_model_module": "@jupyter-widgets/base",
       "_model_module_version": "1.2.0",
       "_model_name": "LayoutModel",
       "_view_count": null,
       "_view_module": "@jupyter-widgets/base",
       "_view_module_version": "1.2.0",
       "_view_name": "LayoutView",
       "align_content": null,
       "align_items": null,
       "align_self": null,
       "border": null,
       "bottom": null,
       "display": null,
       "flex": null,
       "flex_flow": null,
       "grid_area": null,
       "grid_auto_columns": null,
       "grid_auto_flow": null,
       "grid_auto_rows": null,
       "grid_column": null,
       "grid_gap": null,
       "grid_row": null,
       "grid_template_areas": null,
       "grid_template_columns": null,
       "grid_template_rows": null,
       "height": null,
       "justify_content": null,
       "justify_items": null,
       "left": null,
       "margin": null,
       "max_height": null,
       "max_width": null,
       "min_height": null,
       "min_width": null,
       "object_fit": null,
       "object_position": null,
       "order": null,
       "overflow": null,
       "overflow_x": null,
       "overflow_y": null,
       "padding": null,
       "right": null,
       "top": null,
       "visibility": null,
       "width": null
      }
     },
     "9a0d6fee1054446cb4e07319b3e42bd8": {
      "model_module": "@jupyter-widgets/base",
      "model_module_version": "1.2.0",
      "model_name": "LayoutModel",
      "state": {
       "_model_module": "@jupyter-widgets/base",
       "_model_module_version": "1.2.0",
       "_model_name": "LayoutModel",
       "_view_count": null,
       "_view_module": "@jupyter-widgets/base",
       "_view_module_version": "1.2.0",
       "_view_name": "LayoutView",
       "align_content": null,
       "align_items": null,
       "align_self": null,
       "border": null,
       "bottom": null,
       "display": null,
       "flex": null,
       "flex_flow": null,
       "grid_area": null,
       "grid_auto_columns": null,
       "grid_auto_flow": null,
       "grid_auto_rows": null,
       "grid_column": null,
       "grid_gap": null,
       "grid_row": null,
       "grid_template_areas": null,
       "grid_template_columns": null,
       "grid_template_rows": null,
       "height": null,
       "justify_content": null,
       "justify_items": null,
       "left": null,
       "margin": null,
       "max_height": null,
       "max_width": null,
       "min_height": null,
       "min_width": null,
       "object_fit": null,
       "object_position": null,
       "order": null,
       "overflow": null,
       "overflow_x": null,
       "overflow_y": null,
       "padding": null,
       "right": null,
       "top": null,
       "visibility": null,
       "width": null
      }
     },
     "a7586e48b4ac4d2695c662ee7456cee7": {
      "model_module": "@jupyter-widgets/controls",
      "model_module_version": "1.5.0",
      "model_name": "ProgressStyleModel",
      "state": {
       "_model_module": "@jupyter-widgets/controls",
       "_model_module_version": "1.5.0",
       "_model_name": "ProgressStyleModel",
       "_view_count": null,
       "_view_module": "@jupyter-widgets/base",
       "_view_module_version": "1.2.0",
       "_view_name": "StyleView",
       "bar_color": null,
       "description_width": ""
      }
     },
     "a78f8b93409e4df7b9e8082599753631": {
      "model_module": "@jupyter-widgets/base",
      "model_module_version": "1.2.0",
      "model_name": "LayoutModel",
      "state": {
       "_model_module": "@jupyter-widgets/base",
       "_model_module_version": "1.2.0",
       "_model_name": "LayoutModel",
       "_view_count": null,
       "_view_module": "@jupyter-widgets/base",
       "_view_module_version": "1.2.0",
       "_view_name": "LayoutView",
       "align_content": null,
       "align_items": null,
       "align_self": null,
       "border": null,
       "bottom": null,
       "display": null,
       "flex": null,
       "flex_flow": null,
       "grid_area": null,
       "grid_auto_columns": null,
       "grid_auto_flow": null,
       "grid_auto_rows": null,
       "grid_column": null,
       "grid_gap": null,
       "grid_row": null,
       "grid_template_areas": null,
       "grid_template_columns": null,
       "grid_template_rows": null,
       "height": null,
       "justify_content": null,
       "justify_items": null,
       "left": null,
       "margin": null,
       "max_height": null,
       "max_width": null,
       "min_height": null,
       "min_width": null,
       "object_fit": null,
       "object_position": null,
       "order": null,
       "overflow": null,
       "overflow_x": null,
       "overflow_y": null,
       "padding": null,
       "right": null,
       "top": null,
       "visibility": null,
       "width": null
      }
     },
     "a80e70757ea54a13a64c5d8687781071": {
      "model_module": "@jupyter-widgets/controls",
      "model_module_version": "1.5.0",
      "model_name": "HTMLModel",
      "state": {
       "_dom_classes": [],
       "_model_module": "@jupyter-widgets/controls",
       "_model_module_version": "1.5.0",
       "_model_name": "HTMLModel",
       "_view_count": null,
       "_view_module": "@jupyter-widgets/controls",
       "_view_module_version": "1.5.0",
       "_view_name": "HTMLView",
       "description": "",
       "description_tooltip": null,
       "layout": "IPY_MODEL_295172d4cc8f4ff59d49053a88b389c3",
       "placeholder": "​",
       "style": "IPY_MODEL_daeba66a6c5f4be79c9ea6c005909893",
       "value": "Downloading: 100%"
      }
     },
     "b1b7baa8e73449b796f40d70b3b03844": {
      "model_module": "@jupyter-widgets/controls",
      "model_module_version": "1.5.0",
      "model_name": "HBoxModel",
      "state": {
       "_dom_classes": [],
       "_model_module": "@jupyter-widgets/controls",
       "_model_module_version": "1.5.0",
       "_model_name": "HBoxModel",
       "_view_count": null,
       "_view_module": "@jupyter-widgets/controls",
       "_view_module_version": "1.5.0",
       "_view_name": "HBoxView",
       "box_style": "",
       "children": [
        "IPY_MODEL_0120c7b7104d4f768fd3230c25309300",
        "IPY_MODEL_8d21bfe766f641869a6ddcbb63ec3e4c",
        "IPY_MODEL_d70577f31a574bc795fecd8fa2a40666"
       ],
       "layout": "IPY_MODEL_7ac8973df03a4c6fa0c9c0d99c933028"
      }
     },
     "b2caef7462324e838ba437dfeb0a7f2f": {
      "model_module": "@jupyter-widgets/base",
      "model_module_version": "1.2.0",
      "model_name": "LayoutModel",
      "state": {
       "_model_module": "@jupyter-widgets/base",
       "_model_module_version": "1.2.0",
       "_model_name": "LayoutModel",
       "_view_count": null,
       "_view_module": "@jupyter-widgets/base",
       "_view_module_version": "1.2.0",
       "_view_name": "LayoutView",
       "align_content": null,
       "align_items": null,
       "align_self": null,
       "border": null,
       "bottom": null,
       "display": null,
       "flex": null,
       "flex_flow": null,
       "grid_area": null,
       "grid_auto_columns": null,
       "grid_auto_flow": null,
       "grid_auto_rows": null,
       "grid_column": null,
       "grid_gap": null,
       "grid_row": null,
       "grid_template_areas": null,
       "grid_template_columns": null,
       "grid_template_rows": null,
       "height": null,
       "justify_content": null,
       "justify_items": null,
       "left": null,
       "margin": null,
       "max_height": null,
       "max_width": null,
       "min_height": null,
       "min_width": null,
       "object_fit": null,
       "object_position": null,
       "order": null,
       "overflow": null,
       "overflow_x": null,
       "overflow_y": null,
       "padding": null,
       "right": null,
       "top": null,
       "visibility": null,
       "width": null
      }
     },
     "b3b94ba2cc0a45c3b62840639872b014": {
      "model_module": "@jupyter-widgets/controls",
      "model_module_version": "1.5.0",
      "model_name": "DescriptionStyleModel",
      "state": {
       "_model_module": "@jupyter-widgets/controls",
       "_model_module_version": "1.5.0",
       "_model_name": "DescriptionStyleModel",
       "_view_count": null,
       "_view_module": "@jupyter-widgets/base",
       "_view_module_version": "1.2.0",
       "_view_name": "StyleView",
       "description_width": ""
      }
     },
     "b6a875bdb111460cbe2876561a2024ca": {
      "model_module": "@jupyter-widgets/base",
      "model_module_version": "1.2.0",
      "model_name": "LayoutModel",
      "state": {
       "_model_module": "@jupyter-widgets/base",
       "_model_module_version": "1.2.0",
       "_model_name": "LayoutModel",
       "_view_count": null,
       "_view_module": "@jupyter-widgets/base",
       "_view_module_version": "1.2.0",
       "_view_name": "LayoutView",
       "align_content": null,
       "align_items": null,
       "align_self": null,
       "border": null,
       "bottom": null,
       "display": null,
       "flex": null,
       "flex_flow": null,
       "grid_area": null,
       "grid_auto_columns": null,
       "grid_auto_flow": null,
       "grid_auto_rows": null,
       "grid_column": null,
       "grid_gap": null,
       "grid_row": null,
       "grid_template_areas": null,
       "grid_template_columns": null,
       "grid_template_rows": null,
       "height": null,
       "justify_content": null,
       "justify_items": null,
       "left": null,
       "margin": null,
       "max_height": null,
       "max_width": null,
       "min_height": null,
       "min_width": null,
       "object_fit": null,
       "object_position": null,
       "order": null,
       "overflow": null,
       "overflow_x": null,
       "overflow_y": null,
       "padding": null,
       "right": null,
       "top": null,
       "visibility": null,
       "width": null
      }
     },
     "c0abfbbb414348a18dea6c0180a077c7": {
      "model_module": "@jupyter-widgets/base",
      "model_module_version": "1.2.0",
      "model_name": "LayoutModel",
      "state": {
       "_model_module": "@jupyter-widgets/base",
       "_model_module_version": "1.2.0",
       "_model_name": "LayoutModel",
       "_view_count": null,
       "_view_module": "@jupyter-widgets/base",
       "_view_module_version": "1.2.0",
       "_view_name": "LayoutView",
       "align_content": null,
       "align_items": null,
       "align_self": null,
       "border": null,
       "bottom": null,
       "display": null,
       "flex": null,
       "flex_flow": null,
       "grid_area": null,
       "grid_auto_columns": null,
       "grid_auto_flow": null,
       "grid_auto_rows": null,
       "grid_column": null,
       "grid_gap": null,
       "grid_row": null,
       "grid_template_areas": null,
       "grid_template_columns": null,
       "grid_template_rows": null,
       "height": null,
       "justify_content": null,
       "justify_items": null,
       "left": null,
       "margin": null,
       "max_height": null,
       "max_width": null,
       "min_height": null,
       "min_width": null,
       "object_fit": null,
       "object_position": null,
       "order": null,
       "overflow": null,
       "overflow_x": null,
       "overflow_y": null,
       "padding": null,
       "right": null,
       "top": null,
       "visibility": null,
       "width": null
      }
     },
     "c15692a120744af7bfb11970fa81573d": {
      "model_module": "@jupyter-widgets/controls",
      "model_module_version": "1.5.0",
      "model_name": "HTMLModel",
      "state": {
       "_dom_classes": [],
       "_model_module": "@jupyter-widgets/controls",
       "_model_module_version": "1.5.0",
       "_model_name": "HTMLModel",
       "_view_count": null,
       "_view_module": "@jupyter-widgets/controls",
       "_view_module_version": "1.5.0",
       "_view_name": "HTMLView",
       "description": "",
       "description_tooltip": null,
       "layout": "IPY_MODEL_b2caef7462324e838ba437dfeb0a7f2f",
       "placeholder": "​",
       "style": "IPY_MODEL_6fcac719ca784984a7e765a05a506b0c",
       "value": " 625/625 [00:00&lt;00:00, 19.1kB/s]"
      }
     },
     "c52218bcef8c4938803258061dc83bbf": {
      "model_module": "@jupyter-widgets/base",
      "model_module_version": "1.2.0",
      "model_name": "LayoutModel",
      "state": {
       "_model_module": "@jupyter-widgets/base",
       "_model_module_version": "1.2.0",
       "_model_name": "LayoutModel",
       "_view_count": null,
       "_view_module": "@jupyter-widgets/base",
       "_view_module_version": "1.2.0",
       "_view_name": "LayoutView",
       "align_content": null,
       "align_items": null,
       "align_self": null,
       "border": null,
       "bottom": null,
       "display": null,
       "flex": null,
       "flex_flow": null,
       "grid_area": null,
       "grid_auto_columns": null,
       "grid_auto_flow": null,
       "grid_auto_rows": null,
       "grid_column": null,
       "grid_gap": null,
       "grid_row": null,
       "grid_template_areas": null,
       "grid_template_columns": null,
       "grid_template_rows": null,
       "height": null,
       "justify_content": null,
       "justify_items": null,
       "left": null,
       "margin": null,
       "max_height": null,
       "max_width": null,
       "min_height": null,
       "min_width": null,
       "object_fit": null,
       "object_position": null,
       "order": null,
       "overflow": null,
       "overflow_x": null,
       "overflow_y": null,
       "padding": null,
       "right": null,
       "top": null,
       "visibility": null,
       "width": null
      }
     },
     "ccb39fbb13b147378b06110f78665a24": {
      "model_module": "@jupyter-widgets/base",
      "model_module_version": "1.2.0",
      "model_name": "LayoutModel",
      "state": {
       "_model_module": "@jupyter-widgets/base",
       "_model_module_version": "1.2.0",
       "_model_name": "LayoutModel",
       "_view_count": null,
       "_view_module": "@jupyter-widgets/base",
       "_view_module_version": "1.2.0",
       "_view_name": "LayoutView",
       "align_content": null,
       "align_items": null,
       "align_self": null,
       "border": null,
       "bottom": null,
       "display": null,
       "flex": null,
       "flex_flow": null,
       "grid_area": null,
       "grid_auto_columns": null,
       "grid_auto_flow": null,
       "grid_auto_rows": null,
       "grid_column": null,
       "grid_gap": null,
       "grid_row": null,
       "grid_template_areas": null,
       "grid_template_columns": null,
       "grid_template_rows": null,
       "height": null,
       "justify_content": null,
       "justify_items": null,
       "left": null,
       "margin": null,
       "max_height": null,
       "max_width": null,
       "min_height": null,
       "min_width": null,
       "object_fit": null,
       "object_position": null,
       "order": null,
       "overflow": null,
       "overflow_x": null,
       "overflow_y": null,
       "padding": null,
       "right": null,
       "top": null,
       "visibility": null,
       "width": null
      }
     },
     "ccf17f45c0de4a3988d5dcf7a3a2214f": {
      "model_module": "@jupyter-widgets/base",
      "model_module_version": "1.2.0",
      "model_name": "LayoutModel",
      "state": {
       "_model_module": "@jupyter-widgets/base",
       "_model_module_version": "1.2.0",
       "_model_name": "LayoutModel",
       "_view_count": null,
       "_view_module": "@jupyter-widgets/base",
       "_view_module_version": "1.2.0",
       "_view_name": "LayoutView",
       "align_content": null,
       "align_items": null,
       "align_self": null,
       "border": null,
       "bottom": null,
       "display": null,
       "flex": null,
       "flex_flow": null,
       "grid_area": null,
       "grid_auto_columns": null,
       "grid_auto_flow": null,
       "grid_auto_rows": null,
       "grid_column": null,
       "grid_gap": null,
       "grid_row": null,
       "grid_template_areas": null,
       "grid_template_columns": null,
       "grid_template_rows": null,
       "height": null,
       "justify_content": null,
       "justify_items": null,
       "left": null,
       "margin": null,
       "max_height": null,
       "max_width": null,
       "min_height": null,
       "min_width": null,
       "object_fit": null,
       "object_position": null,
       "order": null,
       "overflow": null,
       "overflow_x": null,
       "overflow_y": null,
       "padding": null,
       "right": null,
       "top": null,
       "visibility": null,
       "width": null
      }
     },
     "d260a58e91a846b69c3b9278ea615cdc": {
      "model_module": "@jupyter-widgets/controls",
      "model_module_version": "1.5.0",
      "model_name": "HBoxModel",
      "state": {
       "_dom_classes": [],
       "_model_module": "@jupyter-widgets/controls",
       "_model_module_version": "1.5.0",
       "_model_name": "HBoxModel",
       "_view_count": null,
       "_view_module": "@jupyter-widgets/controls",
       "_view_module_version": "1.5.0",
       "_view_name": "HBoxView",
       "box_style": "",
       "children": [
        "IPY_MODEL_04887185fd0849349996ba4dc0a86e9e",
        "IPY_MODEL_55ccbb0ee488427996fdb17fdf982e9d",
        "IPY_MODEL_c15692a120744af7bfb11970fa81573d"
       ],
       "layout": "IPY_MODEL_8510634bed0e41f58d013c7d6cbb9aec"
      }
     },
     "d70577f31a574bc795fecd8fa2a40666": {
      "model_module": "@jupyter-widgets/controls",
      "model_module_version": "1.5.0",
      "model_name": "HTMLModel",
      "state": {
       "_dom_classes": [],
       "_model_module": "@jupyter-widgets/controls",
       "_model_module_version": "1.5.0",
       "_model_name": "HTMLModel",
       "_view_count": null,
       "_view_module": "@jupyter-widgets/controls",
       "_view_module_version": "1.5.0",
       "_view_name": "HTMLView",
       "description": "",
       "description_tooltip": null,
       "layout": "IPY_MODEL_a78f8b93409e4df7b9e8082599753631",
       "placeholder": "​",
       "style": "IPY_MODEL_8cac0b7741f94582af05c52c13984ee1",
       "value": " 29.0/29.0 [00:00&lt;00:00, 973B/s]"
      }
     },
     "daeba66a6c5f4be79c9ea6c005909893": {
      "model_module": "@jupyter-widgets/controls",
      "model_module_version": "1.5.0",
      "model_name": "DescriptionStyleModel",
      "state": {
       "_model_module": "@jupyter-widgets/controls",
       "_model_module_version": "1.5.0",
       "_model_name": "DescriptionStyleModel",
       "_view_count": null,
       "_view_module": "@jupyter-widgets/base",
       "_view_module_version": "1.2.0",
       "_view_name": "StyleView",
       "description_width": ""
      }
     },
     "ded59988c57c4290b8f2bef859cf7adb": {
      "model_module": "@jupyter-widgets/base",
      "model_module_version": "1.2.0",
      "model_name": "LayoutModel",
      "state": {
       "_model_module": "@jupyter-widgets/base",
       "_model_module_version": "1.2.0",
       "_model_name": "LayoutModel",
       "_view_count": null,
       "_view_module": "@jupyter-widgets/base",
       "_view_module_version": "1.2.0",
       "_view_name": "LayoutView",
       "align_content": null,
       "align_items": null,
       "align_self": null,
       "border": null,
       "bottom": null,
       "display": null,
       "flex": null,
       "flex_flow": null,
       "grid_area": null,
       "grid_auto_columns": null,
       "grid_auto_flow": null,
       "grid_auto_rows": null,
       "grid_column": null,
       "grid_gap": null,
       "grid_row": null,
       "grid_template_areas": null,
       "grid_template_columns": null,
       "grid_template_rows": null,
       "height": null,
       "justify_content": null,
       "justify_items": null,
       "left": null,
       "margin": null,
       "max_height": null,
       "max_width": null,
       "min_height": null,
       "min_width": null,
       "object_fit": null,
       "object_position": null,
       "order": null,
       "overflow": null,
       "overflow_x": null,
       "overflow_y": null,
       "padding": null,
       "right": null,
       "top": null,
       "visibility": null,
       "width": null
      }
     },
     "ebf94a83a7f24faf86284c5ca633866a": {
      "model_module": "@jupyter-widgets/base",
      "model_module_version": "1.2.0",
      "model_name": "LayoutModel",
      "state": {
       "_model_module": "@jupyter-widgets/base",
       "_model_module_version": "1.2.0",
       "_model_name": "LayoutModel",
       "_view_count": null,
       "_view_module": "@jupyter-widgets/base",
       "_view_module_version": "1.2.0",
       "_view_name": "LayoutView",
       "align_content": null,
       "align_items": null,
       "align_self": null,
       "border": null,
       "bottom": null,
       "display": null,
       "flex": null,
       "flex_flow": null,
       "grid_area": null,
       "grid_auto_columns": null,
       "grid_auto_flow": null,
       "grid_auto_rows": null,
       "grid_column": null,
       "grid_gap": null,
       "grid_row": null,
       "grid_template_areas": null,
       "grid_template_columns": null,
       "grid_template_rows": null,
       "height": null,
       "justify_content": null,
       "justify_items": null,
       "left": null,
       "margin": null,
       "max_height": null,
       "max_width": null,
       "min_height": null,
       "min_width": null,
       "object_fit": null,
       "object_position": null,
       "order": null,
       "overflow": null,
       "overflow_x": null,
       "overflow_y": null,
       "padding": null,
       "right": null,
       "top": null,
       "visibility": null,
       "width": null
      }
     },
     "ecd070973d3e4db391ead0b98a22a961": {
      "model_module": "@jupyter-widgets/controls",
      "model_module_version": "1.5.0",
      "model_name": "FloatProgressModel",
      "state": {
       "_dom_classes": [],
       "_model_module": "@jupyter-widgets/controls",
       "_model_module_version": "1.5.0",
       "_model_name": "FloatProgressModel",
       "_view_count": null,
       "_view_module": "@jupyter-widgets/controls",
       "_view_module_version": "1.5.0",
       "_view_name": "ProgressView",
       "bar_style": "success",
       "description": "",
       "description_tooltip": null,
       "layout": "IPY_MODEL_ccf17f45c0de4a3988d5dcf7a3a2214f",
       "max": 1961828,
       "min": 0,
       "orientation": "horizontal",
       "style": "IPY_MODEL_2e45f94421864798bf7ad6f4fc91106b",
       "value": 1961828
      }
     },
     "ff9b367c7cad4ef2b493fc57cd017c03": {
      "model_module": "@jupyter-widgets/controls",
      "model_module_version": "1.5.0",
      "model_name": "ProgressStyleModel",
      "state": {
       "_model_module": "@jupyter-widgets/controls",
       "_model_module_version": "1.5.0",
       "_model_name": "ProgressStyleModel",
       "_view_count": null,
       "_view_module": "@jupyter-widgets/base",
       "_view_module_version": "1.2.0",
       "_view_name": "StyleView",
       "bar_color": null,
       "description_width": ""
      }
     }
    },
    "version_major": 2,
    "version_minor": 0
   }
  }
 },
 "nbformat": 4,
 "nbformat_minor": 5
}
